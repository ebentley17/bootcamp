{
 "cells": [
  {
   "cell_type": "code",
   "execution_count": 1,
   "metadata": {},
   "outputs": [],
   "source": [
    "%load_ext blackcellmagic"
   ]
  },
  {
   "cell_type": "markdown",
   "metadata": {},
   "source": [
    "Exercise 2.1: Parsing a FASTA file\n",
    "\n",
    "There are packages, like Biopython and scikit-bio for processing files you encounter in bioinformatics. In this problem, though, we will work on our file I/O skills.\n",
    "\n",
    "a) Use command line tools to investigate the FASTA file located at ~git/bootcamp/data/salmonella_spi1_region.fna. This file contains a portion of the Salmonella genome (described in Exercise 2.3).\n",
    "\n",
    "You will notice that the first line begins with a >, signifying that the line contains information about the sequence. The remainder of the lines are the sequence itself.\n",
    "\n",
    "b) The format of the Salmonella SPI1 region FASTA file is a common format for such files (though oftentimes FASTA files contain multiple sequences). Use the file I/O skills you have learned to write a function to read in a sequence from a FASTA file containing a single sequence (but possibly having the first line in the file beginning with >). Your function should take as input the name of the FASTA file and return two strings. First, it should return the descriptor string (which starts with >). Second, it should return a string with no gaps containing the sequence.\n",
    "\n",
    "Test your function on the Salmonella sequence."
   ]
  },
  {
   "cell_type": "code",
   "execution_count": 2,
   "metadata": {},
   "outputs": [],
   "source": [
    "def read_sequence(fna_file):\n",
    "    \"\"\"Reads a .fna sequence file.\n",
    "    \n",
    "    Args:\n",
    "        fna_file: the file location of a .fna file, given as a string\n",
    "        \n",
    "    Returns:\n",
    "        string containing description of sequence from the first line of the file;\n",
    "            this return is optional. If no description is detected, the first return will be None\n",
    "        \n",
    "        string containing the sequence with no gaps or newlines\n",
    "    \"\"\"\n",
    "\n",
    "    with open(fna_file, \"r\") as f:\n",
    "        f_lines = f.readlines()\n",
    "\n",
    "        descriptor = f_lines[0].rstrip()\n",
    "        # check whether descriptor line is present\n",
    "        start = 0\n",
    "        if descriptor[0] == \">\":\n",
    "            start = 1\n",
    "        else:\n",
    "            descriptor = None\n",
    "\n",
    "        seq = \"\"\n",
    "        for line in f_lines[start:]:\n",
    "            seq += line.rstrip()\n",
    "\n",
    "    return descriptor, seq"
   ]
  },
  {
   "cell_type": "code",
   "execution_count": 3,
   "metadata": {},
   "outputs": [
    {
     "name": "stdout",
     "output_type": "stream",
     "text": [
      ">gi|821161554|gb|CP011428.1| Salmonella enterica subsp. enterica strain YU39, complete genome, subsequence 3000000 to 3200000 \n",
      "\n",
      " AAAACCTTAGTAACTGGACTGCTGGGATTTTTCAGCCTGGATACGCTGGTAGATCTCTTCACGATGGACAGAAACTTCTTTCGGGGCGTTCACGCCAATACGCACCTGGTTGCCCTTCACCCCTAAAACTGTCACGGTGACCTCATCGCCAATCATGAGGGTCTCACCAACTCGACGAGTCAGAATCAGCATTCTTTGCTCCTTGAAAGATTAAAAGAGTCGGGTCTCTCTGTATCCCGGCATTATCCATCATATAACGCCAAAAAGTAAGCGATGACAAACACCTTAGGTGTAAGCAGTCATGGCATTACATTCTGTTAAACCTAAGTTTAGCCGATATACAAAACTTCAACCTGACTTTATCGTTGTCGATAGCGTTGACGTAAACGCCGCAGCACGGGCTGCGGCGCCAACGAACGCTTATAATTATTGCAATTTTGCGCTGACCCAGCCTTGTACACTGGCTAACGCTGCAGGCAGAGCTGCCGCATCCGTACCACCGGCTTGCGCCATGTCCGGACGACCGCCACCCTTACCGCCCACCTGCTGAGCGACCATCCCAATCAATTCCCCTGCTTTAACCCGGTCGGTCACATCCTTCGACACGCCCGCAATCAGAGAAACCTTACCTTCAACAACCGTTGCCAGTACGATAACGGTAGACCCCAGTTGATTTTTCAGATCATCAACCATGGTTCGCAGCATTTTCGGCTCAATACCAGCAAGCTCGCTAACCAGGAGCTTCACGCCGTTGAGATCGACCGCTTTACTGGAAAGATTTGCACTCTCCTGCGCTGCGGCCTGGTCCTTCAACTGCTGCAACTCTTTTTCCAGCTGACGTGTACGTTCCAGCACGGCACGCACTTTGTCGCCCAGATTCTGGCTGTCGCCCTTCAGCAGATGCGCAATATCGTTTAAGCGATCGCTTTGCGCATGAACGGTGGCCATAGCGCCTTCACCGGTTACCGCCTCAATACGACGAATGCCCGCTGCGGTGCCG\n"
     ]
    }
   ],
   "source": [
    "# I don't want to print the entire huge sequence to my notebook\n",
    "salmonella_sequence_info = read_sequence(\"data/salmonella_spi1_region.fna\")\n",
    "print(salmonella_sequence_info[0], \"\\n\\n\", salmonella_sequence_info[1][:1000])"
   ]
  },
  {
   "cell_type": "markdown",
   "metadata": {},
   "source": [
    "Exercise 2.2: Restriction cut sites\n",
    "Restriction enzymes cut DNA at specific locations called restriction sites. The sequence at a restriction site is called a recognition sequence. Here are the recognition sequences of some commonly used restriction enzymes.\n",
    "\n",
    "HindIII: AAGCTT\n",
    "\n",
    "EcoRI: GAATTC\n",
    "\n",
    "KpnI: GGTACC\n",
    "\n",
    "a) Download the FASTA file (New England Biosystems) from containing the genome of λ-phage, a bacteriophage that infect E. coli, here. [I made a text file with those contents.] Use the function you wrote in Exercise 2.1 to extract the sequence."
   ]
  },
  {
   "cell_type": "code",
   "execution_count": 4,
   "metadata": {},
   "outputs": [
    {
     "data": {
      "text/plain": [
       "'GGGCGGCGACCTCGCGGGTTTTCGCTATTTATGAAAATTTTCCGGTTTAAGGCGTTTCCGTTCTTCTTCGTCATAACTTAATGTTTTTATTTAAAATACCCTCTGAAAAGAAAGGAAACGACAGGTGCTGAAAGCGAGGCTTTTTGGCCTCTGTCGTTTCCTTTCTCTGTTTTTGTCCGTGGAATGAACAATGGAAGTCAACAAAAAGCAGCTGGCTGACATTTTCGGTGCGAGTATCCGTACCATTCAGAACTGGCAGGAACAGGGAATGCCCGTTCTGCGAGGCGGTGGCAAGGGTAATGAGGTGCTTTATGACTCTGCCGCCGTCATAAAATGGTATGCCGAAAGGGATGCTGAAATTGAGAACGAAAAGCTGCGCCGGGAGGTTGAAGAACTGCGGCAGGCCAGCGAGGCAGATCTCCAGCCAGGAACTATTGAGTACGAACGCCATCGACTTACGCGTGCGCAGGCCGACGCACAGGAACTGAAGAATGCCAGAGACTCCGCTGAAGTGGTGGAAACCGCATTCTGTACTTTCGTGCTGTCGCGGATCGCAGGTGAAATTGCCAGTATTCTCGACGGGCTCCCCCTGTCGGTGCAGCGGCGTTTTCCGGAACTGGAAAACCGACATGTTGATTTCCTGAAACGGGATATCATCAAAGCCATGAACAAAGCAGCCGCGCTGGATGAACTGATACCGGGGTTGCTGAGTGAATATATCGAACAGTCAGGTTAACAGGCTGCGGCATTTTGTCCGCGCCGGGCTTCGCTCACTGTTCAGGCCGGAGCCACAGACCGCCGTTGAATGGGCGGATGCTAATTACTATCTCCCGAAAGAATCCGCATACCAGGAAGGGCGCTGGGAAACACTGCCCTTTCAGCGGGCCATCATGAATGCGATGGGCAGCGACTACATCCGTGAGGTGAATGTGGTGAAGTCTGCCCGTGTCGGTTATTCCAAAATGCTGCTGGGTGTTTATGCCTACTTTATAGAGCATAA'"
      ]
     },
     "execution_count": 4,
     "metadata": {},
     "output_type": "execute_result"
    }
   ],
   "source": [
    "lambda_sequence = read_sequence(\"lambda_phage.txt\")[1]\n",
    "lambda_sequence[:1000]"
   ]
  },
  {
   "cell_type": "markdown",
   "metadata": {},
   "source": [
    "b) Write a function with call signature\n",
    "\n",
    "restriction_sites(seq, recoq_seq)\n",
    "\n",
    "that takes as arguments a sequence and the recognition sequence of a restriction enzyme sites and returns the indices of the first base of each of the restriction sites in the sequence. Use this function to find the indices of the restriction sites of λ-DNA for HindIII, EcoRI, and KpnI. Compare your results to those reported on the New England Biosystems datasheet."
   ]
  },
  {
   "cell_type": "code",
   "execution_count": 5,
   "metadata": {},
   "outputs": [],
   "source": [
    "def restriction_sites(seq, recoq_seq):\n",
    "    \"\"\"Finds the indices of restriction enzyme recognition sequences within a given sequence.\n",
    "    \n",
    "    Args:\n",
    "        seq: the sequence to be searched, given as a string\n",
    "        recoq_seq: the recognition sequence to be found\n",
    "        \n",
    "    Returns:\n",
    "        a tuple of indices corresponding to the beginning of each restriction site.\n",
    "            Indices are given with 0-based indexing, in contrast to 1-based indexing commonly used for sequences.\n",
    "    \"\"\"\n",
    "\n",
    "    sites_list = []\n",
    "    search_len = len(recoq_seq)\n",
    "    for i, _ in enumerate(seq):\n",
    "        if seq[i : i + search_len] == recoq_seq:\n",
    "            sites_list.append(i)\n",
    "\n",
    "    return tuple(sites_list)"
   ]
  },
  {
   "cell_type": "code",
   "execution_count": 6,
   "metadata": {},
   "outputs": [
    {
     "name": "stdout",
     "output_type": "stream",
     "text": [
      "HindIII sites:  (23129, 25156, 27478, 36894, 37458, 37583, 44140) \n",
      " EcoRI sites:  (21225, 26103, 31746, 39167, 44971) \n",
      " Kpn1 sites:  (17052, 18555)\n"
     ]
    }
   ],
   "source": [
    "HindIII_sites_in_lambda = restriction_sites(lambda_sequence, \"AAGCTT\")\n",
    "EcoR1_sites_in_lambda = restriction_sites(lambda_sequence, \"GAATTC\")\n",
    "Kpn1_sites_in_lambda = restriction_sites(lambda_sequence, \"GGTACC\")\n",
    "print(\n",
    "    \"HindIII sites: \",\n",
    "    HindIII_sites_in_lambda,\n",
    "    \"\\n\",\n",
    "    \"EcoRI sites: \",\n",
    "    EcoR1_sites_in_lambda,\n",
    "    \"\\n\",\n",
    "    \"Kpn1 sites: \",\n",
    "    Kpn1_sites_in_lambda,\n",
    ")"
   ]
  },
  {
   "cell_type": "markdown",
   "metadata": {},
   "source": [
    "I found one more HindIII site than is listed by NEB!"
   ]
  },
  {
   "cell_type": "markdown",
   "metadata": {},
   "source": [
    "Exercise 2.3: Pathogenicity islands\n",
    "\n",
    "For this and the next problem, we will work with real data from the Salmonella enterica genome. The section of the genome we will work with is in the file ~git/bootcamp/data/salmonella_spi1_region.fna. I cut it out of the full genome. It contains Salmonella pathogenicity island I (SPI1), which contains genes for surface receptors for host-pathogen interactions.\n",
    "\n",
    "Pathogenicity islands are often marked by different GC content than the rest of the genome. We will try to locate the pathogenicity island(s) in our section of the Salmonella genome by computing GC content.\n",
    "\n",
    "a) Use principles of TDD to write a function that divides a sequence into blocks and computes the GC content for each block, returning a tuple. The function signature should look like\n",
    "\n",
    "gc_blocks(seq, block_size)\n",
    "\n",
    "To be clear, if seq = 'ATGACTACGT' and block_size = 4, the blocks to be considered are\n",
    "\n",
    "ATGA\n",
    "CTAC\n",
    "\n",
    "and the function should return (0.25, 0.5). Note that the blocks are non-overlapping and that we don't bother with the fact that end of the sequence that does not fit completely in a block."
   ]
  },
  {
   "cell_type": "markdown",
   "metadata": {},
   "source": [
    "It's easiest to do TDD in text files, but I'm going to attempt to do it here for demonstration purposes."
   ]
  },
  {
   "cell_type": "code",
   "execution_count": 7,
   "metadata": {},
   "outputs": [],
   "source": [
    "def gc_blocks(seq, block_size):\n",
    "    \"\"\"Computes the local GC content of a sequence using a given block size.\n",
    "    \n",
    "    Args:\n",
    "        seq: the sequence to be evaluated, given as a string\n",
    "        block_size: the length of sequence chunk to be evaluated\n",
    "        \n",
    "    Returns:\n",
    "        a tuple of GC contents, given as decimals.\n",
    "    \"\"\"\n",
    "    pass\n",
    "\n",
    "\n",
    "def gc_content(seq):\n",
    "    \"\"\"Returns the GC content of a given sequence as a decimal.\"\"\"\n",
    "    pass"
   ]
  },
  {
   "cell_type": "code",
   "execution_count": 8,
   "metadata": {},
   "outputs": [],
   "source": [
    "def test_gc_blocks_seq_len_1():\n",
    "    \"\"\"Tests gc_blocks for single-base sequences and block length 1.\"\"\"\n",
    "    assert gc_blocks(\"G\", 1) == (1.0,)\n",
    "    assert gc_blocks(\"C\", 1) == (1.0,)\n",
    "    assert gc_blocks(\"A\", 1) == (0.0,)\n",
    "\n",
    "\n",
    "def test_gc_blocks_example():\n",
    "    assert gc_blocks(\"ATGACTACGT\", 4) == (0.25, 0.5)\n",
    "\n",
    "\n",
    "def test_gc_content_one_base():\n",
    "    assert gc_content(\"G\") == 1.0\n",
    "    assert gc_content(\"C\") == 1.0\n",
    "    assert gc_content(\"A\") == 0.0\n",
    "\n",
    "\n",
    "def test_gc_content_empty_input():\n",
    "    assert gc_content(\"\") == 0.0\n",
    "\n",
    "\n",
    "def test_gc_content_short_strings():\n",
    "    assert gc_content(\"ATGA\") == 0.25\n",
    "    assert gc_content(\"CTAC\") == 0.5\n",
    "\n",
    "\n",
    "def test_gc_content_lowercase():\n",
    "    assert gc_content(\"g\") == 1.0\n",
    "    assert gc_content(\"c\") == 1.0\n",
    "    assert gc_content(\"a\") == 0.0"
   ]
  },
  {
   "cell_type": "code",
   "execution_count": 9,
   "metadata": {},
   "outputs": [
    {
     "ename": "AssertionError",
     "evalue": "",
     "output_type": "error",
     "traceback": [
      "\u001b[1;31m---------------------------------------------------------------------------\u001b[0m",
      "\u001b[1;31mAssertionError\u001b[0m                            Traceback (most recent call last)",
      "\u001b[1;32m<ipython-input-9-556a8eb44e31>\u001b[0m in \u001b[0;36m<module>\u001b[1;34m\u001b[0m\n\u001b[0;32m     12\u001b[0m \u001b[1;33m\u001b[0m\u001b[0m\n\u001b[0;32m     13\u001b[0m \u001b[1;33m\u001b[0m\u001b[0m\n\u001b[1;32m---> 14\u001b[1;33m \u001b[0mrun_all_tests_gc_blocks\u001b[0m\u001b[1;33m(\u001b[0m\u001b[1;33m)\u001b[0m\u001b[1;33m\u001b[0m\u001b[1;33m\u001b[0m\u001b[0m\n\u001b[0m",
      "\u001b[1;32m<ipython-input-9-556a8eb44e31>\u001b[0m in \u001b[0;36mrun_all_tests_gc_blocks\u001b[1;34m()\u001b[0m\n\u001b[0;32m      1\u001b[0m \u001b[1;32mdef\u001b[0m \u001b[0mrun_all_tests_gc_blocks\u001b[0m\u001b[1;33m(\u001b[0m\u001b[1;33m)\u001b[0m\u001b[1;33m:\u001b[0m\u001b[1;33m\u001b[0m\u001b[1;33m\u001b[0m\u001b[0m\n\u001b[0;32m      2\u001b[0m     \u001b[1;34m\"\"\"A function I will keep updating to run all written tests for gc_blocks.\"\"\"\u001b[0m\u001b[1;33m\u001b[0m\u001b[1;33m\u001b[0m\u001b[0m\n\u001b[1;32m----> 3\u001b[1;33m     \u001b[0mtest_gc_blocks_seq_len_1\u001b[0m\u001b[1;33m(\u001b[0m\u001b[1;33m)\u001b[0m\u001b[1;33m\u001b[0m\u001b[1;33m\u001b[0m\u001b[0m\n\u001b[0m\u001b[0;32m      4\u001b[0m     \u001b[0mtest_gc_blocks_example\u001b[0m\u001b[1;33m(\u001b[0m\u001b[1;33m)\u001b[0m\u001b[1;33m\u001b[0m\u001b[1;33m\u001b[0m\u001b[0m\n\u001b[0;32m      5\u001b[0m     \u001b[0mtest_gc_content_one_base\u001b[0m\u001b[1;33m(\u001b[0m\u001b[1;33m)\u001b[0m\u001b[1;33m\u001b[0m\u001b[1;33m\u001b[0m\u001b[0m\n",
      "\u001b[1;32m<ipython-input-8-3f1495640439>\u001b[0m in \u001b[0;36mtest_gc_blocks_seq_len_1\u001b[1;34m()\u001b[0m\n\u001b[0;32m      1\u001b[0m \u001b[1;32mdef\u001b[0m \u001b[0mtest_gc_blocks_seq_len_1\u001b[0m\u001b[1;33m(\u001b[0m\u001b[1;33m)\u001b[0m\u001b[1;33m:\u001b[0m\u001b[1;33m\u001b[0m\u001b[1;33m\u001b[0m\u001b[0m\n\u001b[0;32m      2\u001b[0m     \u001b[1;34m\"\"\"Tests gc_blocks for single-base sequences and block length 1.\"\"\"\u001b[0m\u001b[1;33m\u001b[0m\u001b[1;33m\u001b[0m\u001b[0m\n\u001b[1;32m----> 3\u001b[1;33m     \u001b[1;32massert\u001b[0m \u001b[0mgc_blocks\u001b[0m\u001b[1;33m(\u001b[0m\u001b[1;34m\"G\"\u001b[0m\u001b[1;33m,\u001b[0m \u001b[1;36m1\u001b[0m\u001b[1;33m)\u001b[0m \u001b[1;33m==\u001b[0m \u001b[1;33m(\u001b[0m\u001b[1;36m1.0\u001b[0m\u001b[1;33m,\u001b[0m\u001b[1;33m)\u001b[0m\u001b[1;33m\u001b[0m\u001b[1;33m\u001b[0m\u001b[0m\n\u001b[0m\u001b[0;32m      4\u001b[0m     \u001b[1;32massert\u001b[0m \u001b[0mgc_blocks\u001b[0m\u001b[1;33m(\u001b[0m\u001b[1;34m\"C\"\u001b[0m\u001b[1;33m,\u001b[0m \u001b[1;36m1\u001b[0m\u001b[1;33m)\u001b[0m \u001b[1;33m==\u001b[0m \u001b[1;33m(\u001b[0m\u001b[1;36m1.0\u001b[0m\u001b[1;33m,\u001b[0m\u001b[1;33m)\u001b[0m\u001b[1;33m\u001b[0m\u001b[1;33m\u001b[0m\u001b[0m\n\u001b[0;32m      5\u001b[0m     \u001b[1;32massert\u001b[0m \u001b[0mgc_blocks\u001b[0m\u001b[1;33m(\u001b[0m\u001b[1;34m\"A\"\u001b[0m\u001b[1;33m,\u001b[0m \u001b[1;36m1\u001b[0m\u001b[1;33m)\u001b[0m \u001b[1;33m==\u001b[0m \u001b[1;33m(\u001b[0m\u001b[1;36m0.0\u001b[0m\u001b[1;33m,\u001b[0m\u001b[1;33m)\u001b[0m\u001b[1;33m\u001b[0m\u001b[1;33m\u001b[0m\u001b[0m\n",
      "\u001b[1;31mAssertionError\u001b[0m: "
     ]
    }
   ],
   "source": [
    "def run_all_tests_gc_blocks():\n",
    "    \"\"\"A function I will keep updating to run all written tests for gc_blocks.\"\"\"\n",
    "    test_gc_blocks_seq_len_1()\n",
    "    test_gc_blocks_example()\n",
    "    test_gc_content_one_base()\n",
    "    test_gc_content_empty_input()\n",
    "    test_gc_content_short_strings()\n",
    "    test_gc_content_lowercase()\n",
    "\n",
    "    # only reaches this point if there are no errors\n",
    "    print(\"Success!\")\n",
    "\n",
    "\n",
    "run_all_tests_gc_blocks()"
   ]
  },
  {
   "cell_type": "code",
   "execution_count": 10,
   "metadata": {},
   "outputs": [],
   "source": [
    "# now updating these functions\n",
    "\n",
    "\n",
    "def gc_blocks(seq, block_size):\n",
    "    \"\"\"Computes the local GC content of a sequence using a given block size.\n",
    "    \n",
    "    Args:\n",
    "        seq: the sequence to be evaluated, given as a string\n",
    "        block_size: the length of sequence chunk to be evaluated, given as an int\n",
    "        \n",
    "    Returns:\n",
    "        a tuple of GC contents, given as decimals.\n",
    "    \"\"\"\n",
    "\n",
    "    output = []\n",
    "    number_of_chunks = len(seq) // block_size\n",
    "\n",
    "    for i in range(number_of_chunks):\n",
    "        pos = i * block_size\n",
    "        chunk = seq[pos : pos + block_size]\n",
    "        output.append(gc_content(chunk))\n",
    "\n",
    "    return tuple(output)\n",
    "\n",
    "\n",
    "def gc_content(seq):\n",
    "    \"\"\"Returns the GC content of a given sequence as a decimal.\"\"\"\n",
    "    seq = seq.upper()\n",
    "    return (seq.count(\"G\") + seq.count(\"C\")) / len(seq)"
   ]
  },
  {
   "cell_type": "code",
   "execution_count": 11,
   "metadata": {},
   "outputs": [
    {
     "ename": "ZeroDivisionError",
     "evalue": "division by zero",
     "output_type": "error",
     "traceback": [
      "\u001b[1;31m---------------------------------------------------------------------------\u001b[0m",
      "\u001b[1;31mZeroDivisionError\u001b[0m                         Traceback (most recent call last)",
      "\u001b[1;32m<ipython-input-11-5b27b31e8622>\u001b[0m in \u001b[0;36m<module>\u001b[1;34m\u001b[0m\n\u001b[1;32m----> 1\u001b[1;33m \u001b[0mrun_all_tests_gc_blocks\u001b[0m\u001b[1;33m(\u001b[0m\u001b[1;33m)\u001b[0m\u001b[1;33m\u001b[0m\u001b[1;33m\u001b[0m\u001b[0m\n\u001b[0m",
      "\u001b[1;32m<ipython-input-9-556a8eb44e31>\u001b[0m in \u001b[0;36mrun_all_tests_gc_blocks\u001b[1;34m()\u001b[0m\n\u001b[0;32m      4\u001b[0m     \u001b[0mtest_gc_blocks_example\u001b[0m\u001b[1;33m(\u001b[0m\u001b[1;33m)\u001b[0m\u001b[1;33m\u001b[0m\u001b[1;33m\u001b[0m\u001b[0m\n\u001b[0;32m      5\u001b[0m     \u001b[0mtest_gc_content_one_base\u001b[0m\u001b[1;33m(\u001b[0m\u001b[1;33m)\u001b[0m\u001b[1;33m\u001b[0m\u001b[1;33m\u001b[0m\u001b[0m\n\u001b[1;32m----> 6\u001b[1;33m     \u001b[0mtest_gc_content_empty_input\u001b[0m\u001b[1;33m(\u001b[0m\u001b[1;33m)\u001b[0m\u001b[1;33m\u001b[0m\u001b[1;33m\u001b[0m\u001b[0m\n\u001b[0m\u001b[0;32m      7\u001b[0m     \u001b[0mtest_gc_content_short_strings\u001b[0m\u001b[1;33m(\u001b[0m\u001b[1;33m)\u001b[0m\u001b[1;33m\u001b[0m\u001b[1;33m\u001b[0m\u001b[0m\n\u001b[0;32m      8\u001b[0m     \u001b[0mtest_gc_content_lowercase\u001b[0m\u001b[1;33m(\u001b[0m\u001b[1;33m)\u001b[0m\u001b[1;33m\u001b[0m\u001b[1;33m\u001b[0m\u001b[0m\n",
      "\u001b[1;32m<ipython-input-8-3f1495640439>\u001b[0m in \u001b[0;36mtest_gc_content_empty_input\u001b[1;34m()\u001b[0m\n\u001b[0;32m     17\u001b[0m \u001b[1;33m\u001b[0m\u001b[0m\n\u001b[0;32m     18\u001b[0m \u001b[1;32mdef\u001b[0m \u001b[0mtest_gc_content_empty_input\u001b[0m\u001b[1;33m(\u001b[0m\u001b[1;33m)\u001b[0m\u001b[1;33m:\u001b[0m\u001b[1;33m\u001b[0m\u001b[1;33m\u001b[0m\u001b[0m\n\u001b[1;32m---> 19\u001b[1;33m     \u001b[1;32massert\u001b[0m \u001b[0mgc_content\u001b[0m\u001b[1;33m(\u001b[0m\u001b[1;34m\"\"\u001b[0m\u001b[1;33m)\u001b[0m \u001b[1;33m==\u001b[0m \u001b[1;36m0.0\u001b[0m\u001b[1;33m\u001b[0m\u001b[1;33m\u001b[0m\u001b[0m\n\u001b[0m\u001b[0;32m     20\u001b[0m \u001b[1;33m\u001b[0m\u001b[0m\n\u001b[0;32m     21\u001b[0m \u001b[1;33m\u001b[0m\u001b[0m\n",
      "\u001b[1;32m<ipython-input-10-aa9bdd750cb6>\u001b[0m in \u001b[0;36mgc_content\u001b[1;34m(seq)\u001b[0m\n\u001b[0;32m     27\u001b[0m     \u001b[1;34m\"\"\"Returns the GC content of a given sequence as a decimal.\"\"\"\u001b[0m\u001b[1;33m\u001b[0m\u001b[1;33m\u001b[0m\u001b[0m\n\u001b[0;32m     28\u001b[0m     \u001b[0mseq\u001b[0m \u001b[1;33m=\u001b[0m \u001b[0mseq\u001b[0m\u001b[1;33m.\u001b[0m\u001b[0mupper\u001b[0m\u001b[1;33m(\u001b[0m\u001b[1;33m)\u001b[0m\u001b[1;33m\u001b[0m\u001b[1;33m\u001b[0m\u001b[0m\n\u001b[1;32m---> 29\u001b[1;33m     \u001b[1;32mreturn\u001b[0m \u001b[1;33m(\u001b[0m\u001b[0mseq\u001b[0m\u001b[1;33m.\u001b[0m\u001b[0mcount\u001b[0m\u001b[1;33m(\u001b[0m\u001b[1;34m\"G\"\u001b[0m\u001b[1;33m)\u001b[0m \u001b[1;33m+\u001b[0m \u001b[0mseq\u001b[0m\u001b[1;33m.\u001b[0m\u001b[0mcount\u001b[0m\u001b[1;33m(\u001b[0m\u001b[1;34m\"C\"\u001b[0m\u001b[1;33m)\u001b[0m\u001b[1;33m)\u001b[0m \u001b[1;33m/\u001b[0m \u001b[0mlen\u001b[0m\u001b[1;33m(\u001b[0m\u001b[0mseq\u001b[0m\u001b[1;33m)\u001b[0m\u001b[1;33m\u001b[0m\u001b[1;33m\u001b[0m\u001b[0m\n\u001b[0m",
      "\u001b[1;31mZeroDivisionError\u001b[0m: division by zero"
     ]
    }
   ],
   "source": [
    "run_all_tests_gc_blocks()"
   ]
  },
  {
   "cell_type": "code",
   "execution_count": 12,
   "metadata": {},
   "outputs": [],
   "source": [
    "# uh oh! Let's consider that zero input.\n",
    "\n",
    "\n",
    "def gc_content(seq):\n",
    "    \"\"\"Returns the GC content of a given sequence as a decimal.\n",
    "    The GC content of an empty string is considered to be 0.\"\"\"\n",
    "    if len(seq) == 0:\n",
    "        return 0.0\n",
    "\n",
    "    seq = seq.upper()\n",
    "    return (seq.count(\"G\") + seq.count(\"C\")) / len(seq)"
   ]
  },
  {
   "cell_type": "code",
   "execution_count": 13,
   "metadata": {},
   "outputs": [
    {
     "name": "stdout",
     "output_type": "stream",
     "text": [
      "Success!\n"
     ]
    }
   ],
   "source": [
    "run_all_tests_gc_blocks()"
   ]
  },
  {
   "cell_type": "code",
   "execution_count": 14,
   "metadata": {},
   "outputs": [
    {
     "name": "stdout",
     "output_type": "stream",
     "text": [
      "(0.3333333333333333,) \n",
      " (0.0, 0.0, 1.0)\n"
     ]
    }
   ],
   "source": [
    "print(gc_blocks(\"abc\", 3), \"\\n\", gc_blocks(\"abc\", 1))"
   ]
  },
  {
   "cell_type": "markdown",
   "metadata": {},
   "source": [
    "b) Write a function that takes as input a sequence, block size, and a threshold GC content, and returns the original sequence where every base in a block with GC content above threshold is capitalized and every base below the threshold is lowercase. You would call the function like this:\n",
    "\n",
    "mapped_seq = gc_map(seq, block_size, gc_thresh)\n",
    "\n",
    "For example,\n",
    "\n",
    "gc_map('ATGACTACGT', 4, 0.4)\n",
    "\n",
    "returns 'atgaCTAC'. Note that bases not included in GC blocks are not included in the output sequence. Again, use principles of TDD."
   ]
  },
  {
   "cell_type": "code",
   "execution_count": 15,
   "metadata": {},
   "outputs": [],
   "source": [
    "def gc_map(seq, block_size, gc_thresh):\n",
    "    \"\"\"Creates a sequence map, where capital letters represent a GC content above a given sequence, \n",
    "    and other letters are lowercase.\n",
    "    \n",
    "    Args:\n",
    "        seq: the sequence to be mapped, given as a string\n",
    "        block_size: the length of sequence chunk to be evaluated, given as an int\n",
    "        gc_thresh: the GC content threshhold, given as a float where 0 <= gc_thresh <= 1\n",
    "    \n",
    "    Returns:\n",
    "        a string containing the original sequence, modified so that:\n",
    "            lowercase letters represent a GC content below the given threshhold\n",
    "            uppercase letters represent a GC content above the given threshhold\n",
    "    \"\"\"\n",
    "    pass"
   ]
  },
  {
   "cell_type": "code",
   "execution_count": 16,
   "metadata": {},
   "outputs": [],
   "source": [
    "def test_gc_map():\n",
    "    assert gc_map(\"ATCG\", 2, 0.5) == \"atCG\""
   ]
  },
  {
   "cell_type": "code",
   "execution_count": 17,
   "metadata": {},
   "outputs": [
    {
     "name": "stdout",
     "output_type": "stream",
     "text": [
      "Testing gc_blocks:\n",
      "Success!\n",
      "Testing gc_map:\n"
     ]
    },
    {
     "ename": "AssertionError",
     "evalue": "",
     "output_type": "error",
     "traceback": [
      "\u001b[1;31m---------------------------------------------------------------------------\u001b[0m",
      "\u001b[1;31mAssertionError\u001b[0m                            Traceback (most recent call last)",
      "\u001b[1;32m<ipython-input-17-7c2ae4e11229>\u001b[0m in \u001b[0;36m<module>\u001b[1;34m\u001b[0m\n\u001b[0;32m      7\u001b[0m \u001b[1;33m\u001b[0m\u001b[0m\n\u001b[0;32m      8\u001b[0m \u001b[1;33m\u001b[0m\u001b[0m\n\u001b[1;32m----> 9\u001b[1;33m \u001b[0mrun_all_tests_gc_map\u001b[0m\u001b[1;33m(\u001b[0m\u001b[1;33m)\u001b[0m\u001b[1;33m\u001b[0m\u001b[1;33m\u001b[0m\u001b[0m\n\u001b[0m",
      "\u001b[1;32m<ipython-input-17-7c2ae4e11229>\u001b[0m in \u001b[0;36mrun_all_tests_gc_map\u001b[1;34m()\u001b[0m\n\u001b[0;32m      3\u001b[0m     \u001b[0mrun_all_tests_gc_blocks\u001b[0m\u001b[1;33m(\u001b[0m\u001b[1;33m)\u001b[0m\u001b[1;33m\u001b[0m\u001b[1;33m\u001b[0m\u001b[0m\n\u001b[0;32m      4\u001b[0m     \u001b[0mprint\u001b[0m\u001b[1;33m(\u001b[0m\u001b[1;34m\"Testing gc_map:\"\u001b[0m\u001b[1;33m)\u001b[0m\u001b[1;33m\u001b[0m\u001b[1;33m\u001b[0m\u001b[0m\n\u001b[1;32m----> 5\u001b[1;33m     \u001b[0mtest_gc_map\u001b[0m\u001b[1;33m(\u001b[0m\u001b[1;33m)\u001b[0m\u001b[1;33m\u001b[0m\u001b[1;33m\u001b[0m\u001b[0m\n\u001b[0m\u001b[0;32m      6\u001b[0m     \u001b[0mprint\u001b[0m\u001b[1;33m(\u001b[0m\u001b[1;34m\"Success!\"\u001b[0m\u001b[1;33m)\u001b[0m\u001b[1;33m\u001b[0m\u001b[1;33m\u001b[0m\u001b[0m\n\u001b[0;32m      7\u001b[0m \u001b[1;33m\u001b[0m\u001b[0m\n",
      "\u001b[1;32m<ipython-input-16-b327c349f284>\u001b[0m in \u001b[0;36mtest_gc_map\u001b[1;34m()\u001b[0m\n\u001b[0;32m      1\u001b[0m \u001b[1;32mdef\u001b[0m \u001b[0mtest_gc_map\u001b[0m\u001b[1;33m(\u001b[0m\u001b[1;33m)\u001b[0m\u001b[1;33m:\u001b[0m\u001b[1;33m\u001b[0m\u001b[1;33m\u001b[0m\u001b[0m\n\u001b[1;32m----> 2\u001b[1;33m     \u001b[1;32massert\u001b[0m \u001b[0mgc_map\u001b[0m\u001b[1;33m(\u001b[0m\u001b[1;34m\"ATCG\"\u001b[0m\u001b[1;33m,\u001b[0m \u001b[1;36m2\u001b[0m\u001b[1;33m,\u001b[0m \u001b[1;36m0.5\u001b[0m\u001b[1;33m)\u001b[0m \u001b[1;33m==\u001b[0m \u001b[1;34m\"atCG\"\u001b[0m\u001b[1;33m\u001b[0m\u001b[1;33m\u001b[0m\u001b[0m\n\u001b[0m",
      "\u001b[1;31mAssertionError\u001b[0m: "
     ]
    }
   ],
   "source": [
    "def run_all_tests_gc_map():\n",
    "    print(\"Testing gc_blocks:\")\n",
    "    run_all_tests_gc_blocks()\n",
    "    print(\"Testing gc_map:\")\n",
    "    test_gc_map()\n",
    "    print(\"Success!\")\n",
    "\n",
    "\n",
    "run_all_tests_gc_map()"
   ]
  },
  {
   "cell_type": "code",
   "execution_count": 18,
   "metadata": {},
   "outputs": [],
   "source": [
    "def gc_map(seq, block_size, gc_thresh):\n",
    "    \"\"\"Creates a sequence map, where capital letters represent a GC content above a given sequence, \n",
    "    and other letters are lowercase.\n",
    "    \n",
    "    Args:\n",
    "        seq: the sequence to be mapped, given as a string\n",
    "        block_size: the length of sequence chunk to be evaluated, given as an int\n",
    "        gc_thresh: the GC content threshhold, given as a float where 0 <= gc_thresh <= 1\n",
    "    \n",
    "    Returns:\n",
    "        a string containing the original sequence, modified so that:\n",
    "            lowercase letters represent a GC content below the given threshhold\n",
    "            uppercase letters represent a GC content above or equal to the given threshhold\n",
    "    \"\"\"\n",
    "    seq_map = \"\"\n",
    "\n",
    "    block_content = gc_blocks(seq, block_size)\n",
    "\n",
    "    for i, block in enumerate(block_content):\n",
    "        # I'm reusing this code, which isn't good practice,\n",
    "        # but I can't figure out how else to do it since it's inside a for loop\n",
    "        pos = i * block_size\n",
    "        chunk = seq[pos : pos + block_size]\n",
    "\n",
    "        if block < gc_thresh:\n",
    "            seq_map += chunk.lower()\n",
    "        else:\n",
    "            seq_map += chunk.upper()\n",
    "\n",
    "    return seq_map"
   ]
  },
  {
   "cell_type": "code",
   "execution_count": 19,
   "metadata": {},
   "outputs": [
    {
     "name": "stdout",
     "output_type": "stream",
     "text": [
      "Testing gc_blocks:\n",
      "Success!\n",
      "Testing gc_map:\n",
      "Success!\n"
     ]
    }
   ],
   "source": [
    "run_all_tests_gc_map()"
   ]
  },
  {
   "cell_type": "code",
   "execution_count": 20,
   "metadata": {},
   "outputs": [
    {
     "data": {
      "text/plain": [
       "'atCG'"
      ]
     },
     "execution_count": 20,
     "metadata": {},
     "output_type": "execute_result"
    }
   ],
   "source": [
    "gc_map(\"ATCG\", 2, 0.5)"
   ]
  },
  {
   "cell_type": "code",
   "execution_count": 21,
   "metadata": {},
   "outputs": [],
   "source": [
    "def test_gc_map_overhanging_seq():\n",
    "    assert gc_map(\"ATGACTACGT\", 4, 0.4) == \"atgaCTAC\""
   ]
  },
  {
   "cell_type": "code",
   "execution_count": 22,
   "metadata": {},
   "outputs": [
    {
     "name": "stdout",
     "output_type": "stream",
     "text": [
      "Testing gc_blocks:\n",
      "Success!\n",
      "Testing gc_map:\n",
      "Success!\n"
     ]
    }
   ],
   "source": [
    "def run_all_tests_gc_map():\n",
    "    print(\"Testing gc_blocks:\")\n",
    "    run_all_tests_gc_blocks()\n",
    "    print(\"Testing gc_map:\")\n",
    "    test_gc_map()\n",
    "    test_gc_map_overhanging_seq()\n",
    "    print(\"Success!\")\n",
    "\n",
    "\n",
    "run_all_tests_gc_map()"
   ]
  },
  {
   "cell_type": "markdown",
   "metadata": {},
   "source": [
    "c) Use the gc_map() function to generate a GC content map for the Salmonella sequence with block_size = 1000 and gc_thresh = 0.45. Where do you think the pathogenicity island is?"
   ]
  },
  {
   "cell_type": "code",
   "execution_count": 23,
   "metadata": {},
   "outputs": [],
   "source": [
    "sal_seq = salmonella_sequence_info[1]\n",
    "path_map = gc_map(sal_seq, 1000, 0.45)  # not printing this just to save space"
   ]
  },
  {
   "cell_type": "markdown",
   "metadata": {},
   "source": [
    "d) Write the GC-mapped sequence (with upper and lower characters) to a new FASTA file. Use the same description line (which began with a > in the original FASTA file), and have line breaks every 60 characters in the sequence."
   ]
  },
  {
   "cell_type": "code",
   "execution_count": 24,
   "metadata": {},
   "outputs": [],
   "source": [
    "with open(\"salmonella_sequence_map.fasta\", \"w\") as f:\n",
    "    f.write(salmonella_sequence_info[0])\n",
    "    f.write(\"\\n\")\n",
    "\n",
    "    for i in range(len(path_map) // 60 + 1):\n",
    "        f.write(path_map[i * 60 : (i + 1) * 60])\n",
    "        f.write(\"\\n\")"
   ]
  },
  {
   "cell_type": "markdown",
   "metadata": {},
   "source": [
    "Exercise 2.4: ORF detection\n",
    "\n",
    "For this problem, again use principles of TDD to help you write your functions.\n",
    "\n",
    "a) Write a function, longest_orf(), that takes a DNA sequence as input and finds the longest open reading frame (ORF) in the sequence (we will not consider reverse complements). A sequence fragment constitutes an ORF if the following are all true.\n",
    "\n",
    "It begins with ATG.\n",
    "\n",
    "It ends with any of TGA, TAG, or TAA.\n",
    "\n",
    "The total number of bases is a multiple of 3.\n",
    "\n",
    "Note that the sequence ATG may appear in the middle of an ORF. So, for example,\n",
    "\n",
    "GGATGATGATGTAAAAC\n",
    "\n",
    "has two ORFs, ATGATGATGTAA and ATGATGTAA. You would return the first one, since it is longer of these two.\n",
    "\n",
    "Hint: The statement for this problem is a bit ambiguous as it is written. What other specification might you need for this function?"
   ]
  },
  {
   "cell_type": "code",
   "execution_count": 25,
   "metadata": {},
   "outputs": [],
   "source": [
    "def longest_orf(seq):\n",
    "    \"\"\"Finds the longest open reading frame in a sequence and returns it in a string.\n",
    "    \n",
    "    Args:\n",
    "        seq: an input DNA sequence, given as a string\n",
    "    \n",
    "    Returns:\n",
    "        a string containing the longest open reading frame;\n",
    "        that is, the longest substring of seq beginning with ATG; ending with TGA, TAG, or TAA;\n",
    "        and containing a total number of bases that is a multiple of 3.\n",
    "    \"\"\"\n",
    "    pass\n",
    "\n",
    "\n",
    "def find_first_orf(seq):\n",
    "    \"\"\"Finds the first open reading frame in a sequence and returns its starting and ending indices in a tuple.\n",
    "    \n",
    "    Args:\n",
    "        seq: an input DNA sequence, given as a string\n",
    "    \n",
    "    Returns:\n",
    "        a tuple specifying the first and last indices of the first open reading frame;\n",
    "        that is, the first substring of seq beginning with ATG; ending with TGA, TAG, or TAA;\n",
    "        and containing a total number of bases that is a multiple of 3.\n",
    "    \"\"\"\n",
    "    pass"
   ]
  },
  {
   "cell_type": "code",
   "execution_count": 26,
   "metadata": {},
   "outputs": [],
   "source": [
    "# add to this list of inputs to run same tests on more examples\n",
    "orf_test_inputs = [\"ATGTAG\"]\n",
    "stop_codons = (\"TGA\", \"TAG\", \"TAA\")\n",
    "\n",
    "\n",
    "def test_for_valid_longest_orfs():\n",
    "    for input_seq in orf_test_inputs:\n",
    "        assert longest_orf(input_seq)[:3] == \"ATG\"\n",
    "        assert longest_orf(input_seq)[-3:] in stop_codons\n",
    "        assert len(longest_orf(input_seq)) % 3 == 0\n",
    "\n",
    "\n",
    "def test_for_valid_first_orfs():\n",
    "    for input_seq in orf_test_inputs:\n",
    "        output_indices = find_first_orf(input_seq)\n",
    "\n",
    "        start_codon_pos = output_indices[0]\n",
    "        assert input_seq[start_codon_pos : start_codon_pos + 3] == \"ATG\"\n",
    "\n",
    "        stop_codon_pos = output_indices[1]\n",
    "        assert input_seq[stop_codon_pos - 3 : stop_codon_pos] in stop_codons\n",
    "\n",
    "        assert (output_indices[1] - output_indices[0]) % 3 == 0"
   ]
  },
  {
   "cell_type": "code",
   "execution_count": 27,
   "metadata": {},
   "outputs": [
    {
     "ename": "TypeError",
     "evalue": "'NoneType' object is not subscriptable",
     "output_type": "error",
     "traceback": [
      "\u001b[1;31m---------------------------------------------------------------------------\u001b[0m",
      "\u001b[1;31mTypeError\u001b[0m                                 Traceback (most recent call last)",
      "\u001b[1;32m<ipython-input-27-56c97b32918f>\u001b[0m in \u001b[0;36m<module>\u001b[1;34m\u001b[0m\n\u001b[0;32m      5\u001b[0m \u001b[1;33m\u001b[0m\u001b[0m\n\u001b[0;32m      6\u001b[0m \u001b[1;33m\u001b[0m\u001b[0m\n\u001b[1;32m----> 7\u001b[1;33m \u001b[0mtest_all_orf_finders\u001b[0m\u001b[1;33m(\u001b[0m\u001b[1;33m)\u001b[0m\u001b[1;33m\u001b[0m\u001b[1;33m\u001b[0m\u001b[0m\n\u001b[0m",
      "\u001b[1;32m<ipython-input-27-56c97b32918f>\u001b[0m in \u001b[0;36mtest_all_orf_finders\u001b[1;34m()\u001b[0m\n\u001b[0;32m      1\u001b[0m \u001b[1;32mdef\u001b[0m \u001b[0mtest_all_orf_finders\u001b[0m\u001b[1;33m(\u001b[0m\u001b[1;33m)\u001b[0m\u001b[1;33m:\u001b[0m\u001b[1;33m\u001b[0m\u001b[1;33m\u001b[0m\u001b[0m\n\u001b[1;32m----> 2\u001b[1;33m     \u001b[0mtest_for_valid_first_orfs\u001b[0m\u001b[1;33m(\u001b[0m\u001b[1;33m)\u001b[0m\u001b[1;33m\u001b[0m\u001b[1;33m\u001b[0m\u001b[0m\n\u001b[0m\u001b[0;32m      3\u001b[0m     \u001b[0mtest_for_valid_longest_orfs\u001b[0m\u001b[1;33m(\u001b[0m\u001b[1;33m)\u001b[0m\u001b[1;33m\u001b[0m\u001b[1;33m\u001b[0m\u001b[0m\n\u001b[0;32m      4\u001b[0m     \u001b[0mprint\u001b[0m\u001b[1;33m(\u001b[0m\u001b[1;34m\"Success!\"\u001b[0m\u001b[1;33m)\u001b[0m\u001b[1;33m\u001b[0m\u001b[1;33m\u001b[0m\u001b[0m\n\u001b[0;32m      5\u001b[0m \u001b[1;33m\u001b[0m\u001b[0m\n",
      "\u001b[1;32m<ipython-input-26-f639471cbb16>\u001b[0m in \u001b[0;36mtest_for_valid_first_orfs\u001b[1;34m()\u001b[0m\n\u001b[0;32m     15\u001b[0m         \u001b[0moutput_indices\u001b[0m \u001b[1;33m=\u001b[0m \u001b[0mfind_first_orf\u001b[0m\u001b[1;33m(\u001b[0m\u001b[0minput_seq\u001b[0m\u001b[1;33m)\u001b[0m\u001b[1;33m\u001b[0m\u001b[1;33m\u001b[0m\u001b[0m\n\u001b[0;32m     16\u001b[0m \u001b[1;33m\u001b[0m\u001b[0m\n\u001b[1;32m---> 17\u001b[1;33m         \u001b[0mstart_codon_pos\u001b[0m \u001b[1;33m=\u001b[0m \u001b[0moutput_indices\u001b[0m\u001b[1;33m[\u001b[0m\u001b[1;36m0\u001b[0m\u001b[1;33m]\u001b[0m\u001b[1;33m\u001b[0m\u001b[1;33m\u001b[0m\u001b[0m\n\u001b[0m\u001b[0;32m     18\u001b[0m         \u001b[1;32massert\u001b[0m \u001b[0minput_seq\u001b[0m\u001b[1;33m[\u001b[0m\u001b[0mstart_codon_pos\u001b[0m \u001b[1;33m:\u001b[0m \u001b[0mstart_codon_pos\u001b[0m \u001b[1;33m+\u001b[0m \u001b[1;36m3\u001b[0m\u001b[1;33m]\u001b[0m \u001b[1;33m==\u001b[0m \u001b[1;34m\"ATG\"\u001b[0m\u001b[1;33m\u001b[0m\u001b[1;33m\u001b[0m\u001b[0m\n\u001b[0;32m     19\u001b[0m \u001b[1;33m\u001b[0m\u001b[0m\n",
      "\u001b[1;31mTypeError\u001b[0m: 'NoneType' object is not subscriptable"
     ]
    }
   ],
   "source": [
    "def test_all_orf_finders():\n",
    "    test_for_valid_first_orfs()\n",
    "    test_for_valid_longest_orfs()\n",
    "    print(\"Success!\")\n",
    "\n",
    "\n",
    "test_all_orf_finders()"
   ]
  },
  {
   "cell_type": "code",
   "execution_count": 28,
   "metadata": {},
   "outputs": [],
   "source": [
    "def find_first_orf(seq):\n",
    "    \"\"\"Finds the first open reading frame in a sequence and returns its starting and ending indices in a tuple.\n",
    "    \n",
    "    Args:\n",
    "        seq: an input DNA sequence, given as a string\n",
    "    \n",
    "    Returns:\n",
    "        a tuple specifying the start and end indices of the first open reading frame;\n",
    "        that is, (first_index, last_index) such that ORF = seq[first_index:last_index]\n",
    "        seq[last_index] is in actuality the first index after the ORF.\n",
    "        \n",
    "        The first ORF is defined as the first substring of seq beginning with ATG; ending with TGA, TAG, or TAA;\n",
    "        and containing a total number of bases that is a multiple of 3.\n",
    "        \n",
    "        Returns None if no ORF is found.\n",
    "    \"\"\"\n",
    "\n",
    "    seq = seq.upper()\n",
    "\n",
    "    start_codon_pos = seq.find(\"ATG\")\n",
    "    # remember that .find returns -1 if it can't find anything!\n",
    "    if start_codon_pos < 0:\n",
    "        return None\n",
    "\n",
    "    stop_codons = (\"TGA\", \"TAG\", \"TAA\")\n",
    "\n",
    "    current_codon_pos = start_codon_pos + 3\n",
    "    while current_codon_pos < len(seq):\n",
    "        current_codon = seq[current_codon_pos : current_codon_pos + 3]\n",
    "        if current_codon in stop_codons:\n",
    "            # current_codon_pos is the start of the codon; include the entire codon\n",
    "            return (start_codon_pos, current_codon_pos + 3)\n",
    "            # note that this returns the first index of the ORF and the first index that is not the ORF\n",
    "            # see docstring for details\n",
    "\n",
    "        current_codon_pos += 3\n",
    "\n",
    "    # if we exit that loop without breaking, then we never found a stop codon\n",
    "    return None  # this happens automatically if no return is specified, but explicit is better than implicit!\n",
    "\n",
    "\n",
    "def test_find_first_orf_basic():\n",
    "    assert find_first_orf(\"ATGTGA\") == (0, 6)\n",
    "    assert find_first_orf(\"ATGTAG\") == (0, 6)\n",
    "    assert find_first_orf(\"ATGTAA\") == (0, 6)\n",
    "    assert find_first_orf(\"CATGTAG\") == (1, 7)"
   ]
  },
  {
   "cell_type": "code",
   "execution_count": 29,
   "metadata": {},
   "outputs": [
    {
     "name": "stdout",
     "output_type": "stream",
     "text": [
      "Testing find_first_orf: \n",
      "Success!\n",
      "Testing longest_orf: \n"
     ]
    },
    {
     "ename": "TypeError",
     "evalue": "'NoneType' object is not subscriptable",
     "output_type": "error",
     "traceback": [
      "\u001b[1;31m---------------------------------------------------------------------------\u001b[0m",
      "\u001b[1;31mTypeError\u001b[0m                                 Traceback (most recent call last)",
      "\u001b[1;32m<ipython-input-29-ba51f20d9cc4>\u001b[0m in \u001b[0;36m<module>\u001b[1;34m\u001b[0m\n\u001b[0;32m     10\u001b[0m \u001b[1;33m\u001b[0m\u001b[0m\n\u001b[0;32m     11\u001b[0m \u001b[1;33m\u001b[0m\u001b[0m\n\u001b[1;32m---> 12\u001b[1;33m \u001b[0mtest_all_orf_finders\u001b[0m\u001b[1;33m(\u001b[0m\u001b[1;33m)\u001b[0m\u001b[1;33m\u001b[0m\u001b[1;33m\u001b[0m\u001b[0m\n\u001b[0m",
      "\u001b[1;32m<ipython-input-29-ba51f20d9cc4>\u001b[0m in \u001b[0;36mtest_all_orf_finders\u001b[1;34m()\u001b[0m\n\u001b[0;32m      6\u001b[0m \u001b[1;33m\u001b[0m\u001b[0m\n\u001b[0;32m      7\u001b[0m     \u001b[0mprint\u001b[0m\u001b[1;33m(\u001b[0m\u001b[1;34m\"Testing longest_orf: \"\u001b[0m\u001b[1;33m)\u001b[0m\u001b[1;33m\u001b[0m\u001b[1;33m\u001b[0m\u001b[0m\n\u001b[1;32m----> 8\u001b[1;33m     \u001b[0mtest_for_valid_longest_orfs\u001b[0m\u001b[1;33m(\u001b[0m\u001b[1;33m)\u001b[0m\u001b[1;33m\u001b[0m\u001b[1;33m\u001b[0m\u001b[0m\n\u001b[0m\u001b[0;32m      9\u001b[0m     \u001b[0mprint\u001b[0m\u001b[1;33m(\u001b[0m\u001b[1;34m\"Success!\"\u001b[0m\u001b[1;33m)\u001b[0m\u001b[1;33m\u001b[0m\u001b[1;33m\u001b[0m\u001b[0m\n\u001b[0;32m     10\u001b[0m \u001b[1;33m\u001b[0m\u001b[0m\n",
      "\u001b[1;32m<ipython-input-26-f639471cbb16>\u001b[0m in \u001b[0;36mtest_for_valid_longest_orfs\u001b[1;34m()\u001b[0m\n\u001b[0;32m      6\u001b[0m \u001b[1;32mdef\u001b[0m \u001b[0mtest_for_valid_longest_orfs\u001b[0m\u001b[1;33m(\u001b[0m\u001b[1;33m)\u001b[0m\u001b[1;33m:\u001b[0m\u001b[1;33m\u001b[0m\u001b[1;33m\u001b[0m\u001b[0m\n\u001b[0;32m      7\u001b[0m     \u001b[1;32mfor\u001b[0m \u001b[0minput_seq\u001b[0m \u001b[1;32min\u001b[0m \u001b[0morf_test_inputs\u001b[0m\u001b[1;33m:\u001b[0m\u001b[1;33m\u001b[0m\u001b[1;33m\u001b[0m\u001b[0m\n\u001b[1;32m----> 8\u001b[1;33m         \u001b[1;32massert\u001b[0m \u001b[0mlongest_orf\u001b[0m\u001b[1;33m(\u001b[0m\u001b[0minput_seq\u001b[0m\u001b[1;33m)\u001b[0m\u001b[1;33m[\u001b[0m\u001b[1;33m:\u001b[0m\u001b[1;36m3\u001b[0m\u001b[1;33m]\u001b[0m \u001b[1;33m==\u001b[0m \u001b[1;34m\"ATG\"\u001b[0m\u001b[1;33m\u001b[0m\u001b[1;33m\u001b[0m\u001b[0m\n\u001b[0m\u001b[0;32m      9\u001b[0m         \u001b[1;32massert\u001b[0m \u001b[0mlongest_orf\u001b[0m\u001b[1;33m(\u001b[0m\u001b[0minput_seq\u001b[0m\u001b[1;33m)\u001b[0m\u001b[1;33m[\u001b[0m\u001b[1;33m-\u001b[0m\u001b[1;36m3\u001b[0m\u001b[1;33m:\u001b[0m\u001b[1;33m]\u001b[0m \u001b[1;32min\u001b[0m \u001b[0mstop_codons\u001b[0m\u001b[1;33m\u001b[0m\u001b[1;33m\u001b[0m\u001b[0m\n\u001b[0;32m     10\u001b[0m         \u001b[1;32massert\u001b[0m \u001b[0mlen\u001b[0m\u001b[1;33m(\u001b[0m\u001b[0mlongest_orf\u001b[0m\u001b[1;33m(\u001b[0m\u001b[0minput_seq\u001b[0m\u001b[1;33m)\u001b[0m\u001b[1;33m)\u001b[0m \u001b[1;33m%\u001b[0m \u001b[1;36m3\u001b[0m \u001b[1;33m==\u001b[0m \u001b[1;36m0\u001b[0m\u001b[1;33m\u001b[0m\u001b[1;33m\u001b[0m\u001b[0m\n",
      "\u001b[1;31mTypeError\u001b[0m: 'NoneType' object is not subscriptable"
     ]
    }
   ],
   "source": [
    "def test_all_orf_finders():\n",
    "    print(\"Testing find_first_orf: \")\n",
    "    test_for_valid_first_orfs()\n",
    "    test_find_first_orf_basic()\n",
    "    print(\"Success!\")\n",
    "\n",
    "    print(\"Testing longest_orf: \")\n",
    "    test_for_valid_longest_orfs()\n",
    "    print(\"Success!\")\n",
    "\n",
    "\n",
    "test_all_orf_finders()"
   ]
  },
  {
   "cell_type": "code",
   "execution_count": 30,
   "metadata": {},
   "outputs": [],
   "source": [
    "def longest_orf(seq):\n",
    "    \"\"\"Finds the longest open reading frame in a sequence and returns it in a string.\n",
    "    Brute force algorithm that starts at the beginning and compares each successive ORF to see if it's longer.\n",
    "    Returns the first longest one.\n",
    "    \n",
    "    Args:\n",
    "        seq: an input DNA sequence, given as a string\n",
    "    \n",
    "    Returns:\n",
    "        a string containing a single longest open reading frame;\n",
    "        that is, the longest substring of seq beginning with ATG; ending with TGA, TAG, or TAA;\n",
    "        and containing a total number of bases that is a multiple of 3.\n",
    "    \"\"\"\n",
    "\n",
    "    current_longest_orf = \"\"\n",
    "    i = 0\n",
    "\n",
    "    while i <= len(seq):\n",
    "        subseq = seq[i:]\n",
    "        orf_pos = find_first_orf(subseq)\n",
    "        # remember, i refers to seq\n",
    "        # but returned indices refer to subseq; add i to refer to seq\n",
    "\n",
    "        # what if no more ORFs?\n",
    "        if orf_pos == None:\n",
    "            break\n",
    "\n",
    "        orf_len = orf_pos[1] - orf_pos[0]\n",
    "\n",
    "        if orf_len > len(current_longest_orf):\n",
    "            current_longest_orf = seq[orf_pos[0] + i : orf_pos[1] + i]\n",
    "\n",
    "        i += orf_pos[0] + 1\n",
    "\n",
    "    return current_longest_orf"
   ]
  },
  {
   "cell_type": "code",
   "execution_count": 31,
   "metadata": {},
   "outputs": [
    {
     "name": "stdout",
     "output_type": "stream",
     "text": [
      "Testing find_first_orf: \n",
      "Success!\n",
      "Testing longest_orf: \n",
      "Success!\n"
     ]
    }
   ],
   "source": [
    "def test_if_orf_is_longest():\n",
    "    assert longest_orf(\"ATGTAGATGAAAAAATAG\") == \"ATGAAAAAATAG\"\n",
    "\n",
    "\n",
    "def test_all_orf_finders():\n",
    "    print(\"Testing find_first_orf: \")\n",
    "    test_for_valid_first_orfs()\n",
    "    test_find_first_orf_basic()\n",
    "    print(\"Success!\")\n",
    "\n",
    "    print(\"Testing longest_orf: \")\n",
    "    test_for_valid_longest_orfs()\n",
    "    test_if_orf_is_longest()\n",
    "    print(\"Success!\")\n",
    "\n",
    "\n",
    "test_all_orf_finders()"
   ]
  },
  {
   "cell_type": "code",
   "execution_count": 32,
   "metadata": {},
   "outputs": [
    {
     "name": "stdout",
     "output_type": "stream",
     "text": [
      "Testing find_first_orf: \n",
      "Success!\n",
      "Testing longest_orf: \n",
      "Success!\n"
     ]
    }
   ],
   "source": [
    "orf_test_inputs.append(\"LSKDJALIDJFPIVATGTAGLVKNLKDS\")\n",
    "test_all_orf_finders()"
   ]
  },
  {
   "cell_type": "code",
   "execution_count": 33,
   "metadata": {},
   "outputs": [
    {
     "data": {
      "text/plain": [
       "''"
      ]
     },
     "execution_count": 33,
     "metadata": {},
     "output_type": "execute_result"
    }
   ],
   "source": [
    "# my tests can't handle empty output, though:\n",
    "longest_orf(\"Q\")"
   ]
  },
  {
   "cell_type": "code",
   "execution_count": 34,
   "metadata": {},
   "outputs": [
    {
     "name": "stdout",
     "output_type": "stream",
     "text": [
      "Testing find_first_orf: \n"
     ]
    },
    {
     "ename": "TypeError",
     "evalue": "'NoneType' object is not subscriptable",
     "output_type": "error",
     "traceback": [
      "\u001b[1;31m---------------------------------------------------------------------------\u001b[0m",
      "\u001b[1;31mTypeError\u001b[0m                                 Traceback (most recent call last)",
      "\u001b[1;32m<ipython-input-34-5e3e500eb971>\u001b[0m in \u001b[0;36m<module>\u001b[1;34m\u001b[0m\n\u001b[0;32m      2\u001b[0m \u001b[1;31m# maybe I should go back and throw errors with incorrect inputs!\u001b[0m\u001b[1;33m\u001b[0m\u001b[1;33m\u001b[0m\u001b[1;33m\u001b[0m\u001b[0m\n\u001b[0;32m      3\u001b[0m \u001b[0morf_test_inputs\u001b[0m\u001b[1;33m.\u001b[0m\u001b[0mappend\u001b[0m\u001b[1;33m(\u001b[0m\u001b[1;34m\"Q\"\u001b[0m\u001b[1;33m)\u001b[0m\u001b[1;33m\u001b[0m\u001b[1;33m\u001b[0m\u001b[0m\n\u001b[1;32m----> 4\u001b[1;33m \u001b[0mtest_all_orf_finders\u001b[0m\u001b[1;33m(\u001b[0m\u001b[1;33m)\u001b[0m\u001b[1;33m\u001b[0m\u001b[1;33m\u001b[0m\u001b[0m\n\u001b[0m",
      "\u001b[1;32m<ipython-input-31-533534a28fce>\u001b[0m in \u001b[0;36mtest_all_orf_finders\u001b[1;34m()\u001b[0m\n\u001b[0;32m      5\u001b[0m \u001b[1;32mdef\u001b[0m \u001b[0mtest_all_orf_finders\u001b[0m\u001b[1;33m(\u001b[0m\u001b[1;33m)\u001b[0m\u001b[1;33m:\u001b[0m\u001b[1;33m\u001b[0m\u001b[1;33m\u001b[0m\u001b[0m\n\u001b[0;32m      6\u001b[0m     \u001b[0mprint\u001b[0m\u001b[1;33m(\u001b[0m\u001b[1;34m\"Testing find_first_orf: \"\u001b[0m\u001b[1;33m)\u001b[0m\u001b[1;33m\u001b[0m\u001b[1;33m\u001b[0m\u001b[0m\n\u001b[1;32m----> 7\u001b[1;33m     \u001b[0mtest_for_valid_first_orfs\u001b[0m\u001b[1;33m(\u001b[0m\u001b[1;33m)\u001b[0m\u001b[1;33m\u001b[0m\u001b[1;33m\u001b[0m\u001b[0m\n\u001b[0m\u001b[0;32m      8\u001b[0m     \u001b[0mtest_find_first_orf_basic\u001b[0m\u001b[1;33m(\u001b[0m\u001b[1;33m)\u001b[0m\u001b[1;33m\u001b[0m\u001b[1;33m\u001b[0m\u001b[0m\n\u001b[0;32m      9\u001b[0m     \u001b[0mprint\u001b[0m\u001b[1;33m(\u001b[0m\u001b[1;34m\"Success!\"\u001b[0m\u001b[1;33m)\u001b[0m\u001b[1;33m\u001b[0m\u001b[1;33m\u001b[0m\u001b[0m\n",
      "\u001b[1;32m<ipython-input-26-f639471cbb16>\u001b[0m in \u001b[0;36mtest_for_valid_first_orfs\u001b[1;34m()\u001b[0m\n\u001b[0;32m     15\u001b[0m         \u001b[0moutput_indices\u001b[0m \u001b[1;33m=\u001b[0m \u001b[0mfind_first_orf\u001b[0m\u001b[1;33m(\u001b[0m\u001b[0minput_seq\u001b[0m\u001b[1;33m)\u001b[0m\u001b[1;33m\u001b[0m\u001b[1;33m\u001b[0m\u001b[0m\n\u001b[0;32m     16\u001b[0m \u001b[1;33m\u001b[0m\u001b[0m\n\u001b[1;32m---> 17\u001b[1;33m         \u001b[0mstart_codon_pos\u001b[0m \u001b[1;33m=\u001b[0m \u001b[0moutput_indices\u001b[0m\u001b[1;33m[\u001b[0m\u001b[1;36m0\u001b[0m\u001b[1;33m]\u001b[0m\u001b[1;33m\u001b[0m\u001b[1;33m\u001b[0m\u001b[0m\n\u001b[0m\u001b[0;32m     18\u001b[0m         \u001b[1;32massert\u001b[0m \u001b[0minput_seq\u001b[0m\u001b[1;33m[\u001b[0m\u001b[0mstart_codon_pos\u001b[0m \u001b[1;33m:\u001b[0m \u001b[0mstart_codon_pos\u001b[0m \u001b[1;33m+\u001b[0m \u001b[1;36m3\u001b[0m\u001b[1;33m]\u001b[0m \u001b[1;33m==\u001b[0m \u001b[1;34m\"ATG\"\u001b[0m\u001b[1;33m\u001b[0m\u001b[1;33m\u001b[0m\u001b[0m\n\u001b[0;32m     19\u001b[0m \u001b[1;33m\u001b[0m\u001b[0m\n",
      "\u001b[1;31mTypeError\u001b[0m: 'NoneType' object is not subscriptable"
     ]
    }
   ],
   "source": [
    "# that's acceptable output, but my tests fail on it\n",
    "# maybe I should go back and throw errors with incorrect inputs!\n",
    "orf_test_inputs.append(\"Q\")\n",
    "test_all_orf_finders()"
   ]
  },
  {
   "cell_type": "code",
   "execution_count": 35,
   "metadata": {},
   "outputs": [
    {
     "name": "stdout",
     "output_type": "stream",
     "text": [
      "Testing find_first_orf: \n",
      "Success!\n",
      "Testing longest_orf: \n",
      "Success!\n"
     ]
    }
   ],
   "source": [
    "orf_test_inputs.remove(\"Q\")\n",
    "test_all_orf_finders()"
   ]
  },
  {
   "cell_type": "markdown",
   "metadata": {},
   "source": [
    "b) Use your function to find the longest ORF from the section of the Salmonella genome we are investigating."
   ]
  },
  {
   "cell_type": "code",
   "execution_count": 36,
   "metadata": {},
   "outputs": [
    {
     "data": {
      "text/plain": [
       "'ATGACCAACTACAGCCTGCGCGCACGCATGATGATTCTGATCCTGGCCCCGACCGTCCTGATAGGTTTGCTGCTCAGTATCTTTTTTGTAGTGCACCGCTATAACGACCTGCAGCGTCAACTGGAAGATGCCGGCGCCAGTATTATTGAACCGCTCGCCGTCTCCAGCGAATATGGTATGAACTTACAAAACCGGGAGTCTATCGGCCAACTTATCAGCGTCCTGCACCGCAGACACTCTGATATTGTGCGGGCGATTTCCGTTTATGACGATCATAACCGTCTGTTTGTAACGTCTAATTTCCATCTGGACCCCTCACAGATGCAGCTTCCCGCCGGAGCGCCGTTTCCACGTCGTCTGAGCGTTGATCGCCACGGCGATATTATGATTCTGCGCACCCCAATTATCTCGGAGAGCTATTCGCCGGACGAGTCAGCGATTGCTGACGCGAAAAATACCAAAAATATGCTGGGGTATGTGGCGCTTGAACTGGATCTCAAGTCGGTCAGGCTACAGCAATACAAAGAGATTTTTATCTCCAGCGTGATGATGCTTTTTTGTATTGGCATTGCGCTGATCTTTGGCTGGCGGCTTATGCGCGATGTCACCGGGCCTATCCGTAATATGGTGAATACCGTTGACCGCATTCGCCGCGGACAACTGGATAGCCGGGTGGAAGGATTTATGCTGGGCGAACTGGATATGCTGAAAAACGGCATTAATTCCATGGCGATGTCGCTTGCCGCCTATCACGAAGAGATGCAGCATAATATCGATCAGGCCACTTCGGACCTGCGTGAAACCCTTGAGCAGATGGAAATCCAAAACGTTGAGCTGGATCTGGCGAAAAAGCGTGCCCAGGAAGCGGCGCGTATTAAGTCGGAGTTCCTGGCGAACATGTCGCACGAACTGCGAACGCCGCTGAACGGCGTCATTGGCTTTACCCGCCTGACATTAAAAACGGAGCTGAATCCCACCCAGCGCGACCATCTGAACACCATTGAGCGTTCCGCGAATAATCTGCTGGCGATCATTAATGACGTGCTTGATTTCTCCAAGCTGGAAGCCGGTAAGCTCATTCTGGAAAGTATCCCTTTTCCACTGCGTAATACGCTGGATGAAGTGGTTACGCTGCTGGCTCACTCGTCGCATGATAAAGGGCTGGAGTTGACGTTAAATATTAAAAACGACGTCCCGGATAATGTGATTGGCGACCCGCTGCGCCTGCAACAGGTCATTACTAATCTGGTGGGTAATGCCATTAAGTTCACCGAGAGTGGCAATATCGACATTCTGGTAGAAAAGCGGGCGCTCAGTAACACCAAAGTACAGATTGAAGTGCAGATCCGCGATACGGGGATCGGCATTCCGGAACGCGACCAGTCGCGACTGTTTCAGGCGTTTCGCCAGGCCGATGCCAGTATTTCTCGCCGTCACGGCGGCACCGGGCTTGGGCTGGTGATTACGCAAAAGCTGGTCAACGAAATGGGCGGGGATATCTCTTTCCACAGCCAGCCTAATCGCGGCTCGACCTTCTGGTTTCATATTAATCTTGATCTTAACCCAAATGTCATTATTGACGGGCCGTCGACCGCGTGTCTGGCCGGGAAACGGCTGGCTTATGTCGAACCGAATGCTACCGCCGCGCAATGTACCCTGGATCTACTGAGCGACACGCCGGTGGAGGTGGTTTACAGCCCGACCTTCTCCGCGCTGCCGTTAGCGCACTACGATATTATGATTTTGAGCGTTCCGGTGACCTTCCGCGAGCCGCTCACCATGCAGCATGAACGTCTGGCGAAAGCAGCGTCAATGACGGACTTTCTACTGCTGGCGCTACCTTGCCATGCGCAAATTAACGCCGAAAAGCTGAAACAAGGAGGCGCGGCGGCCTGTCTGTTAAAACCATTGACGTCAACGCGCCTGTTGCCAGCGCTGACGGAATATTGCCAGTTGAATCACCATCCTGAACCGCTGCTAATGGATACCAGTAAAATCACCATGACGGTTATGGCGGTTGATGATAATCCCGCTAATCTGAAGCTTATCGGCGCGTTACTGGAAGATAAAGTCCAGCACGTAGAGCTTTGTGATAGCGGACATCAGGCGGTGGATCGGGCGAAACAAATGCAGTTTGATCTGATTTTGATGGATATTCAGATGCCGGATATGGACGGCATACGCGCCTGCGAATTGATTCACCAGCTTCCTCATCAGCAGCAAACACCGGTTATTGCCGTTACGGCACATGCGATGGCCGGGCAAAAAGAGAAGTTGCTCAGCGCGGGCATGAACGACTATCTGGCTAAACCGATAGAAGAAGAGAAGTTGCATAATCTGTTGCTGCGCTATAAACCTGGCGCCAACGTAGCAGCGCGCCTGATGGCGCCGGAACCAGCTGAATTTATCTTCAATCCGAATGCAACGCTCGACTGGCAGCTTGCGCTCCGCCAGGCTGCCGGTAAGCCCGATCTGGCGCGGGATATGCTGCAAATGCTGATTGATTTTCTGCCGGAAGTGCGCAACAAAATTGAAGAACAACTGGTGGGAGAAAATCCCAACGGCCTGGTCGATCTGGTCCATAAGCTACACGGGAGCTGCGGCTATAGCGGCGTACCGCGGATGAAGAACCTTTGCCAGCTTATTGAGCAACAGCTTCGCAGCGGCGTCCACGAAGAGGAGCTGGAGCCTGAGTTTCTGGAGCTGCTGGATGAGATGGATAATGTCGCGCGTGAAGCGAAGAAGATATTAGGCTGA'"
      ]
     },
     "execution_count": 36,
     "metadata": {},
     "output_type": "execute_result"
    }
   ],
   "source": [
    "longest_orf(sal_seq)"
   ]
  },
  {
   "cell_type": "markdown",
   "metadata": {},
   "source": [
    "c) Write a function that converts a DNA sequence into a protein sequence. You can of course use the bootcamp_utils module."
   ]
  },
  {
   "cell_type": "code",
   "execution_count": 37,
   "metadata": {},
   "outputs": [],
   "source": [
    "import bootcamp_utils"
   ]
  },
  {
   "cell_type": "code",
   "execution_count": 38,
   "metadata": {},
   "outputs": [
    {
     "data": {
      "text/plain": [
       "\u001b[1;31mType:\u001b[0m        dict\n",
       "\u001b[1;31mString form:\u001b[0m {'TTT': 'F', 'TTC': 'F', 'TTA': 'L', 'TTG': 'L', 'TCT': 'S', 'TCC': 'S', 'TCA': 'S', 'TCG': 'S',  <...> , 'GAT': 'D', 'GAC': 'D', 'GAA': 'E', 'GAG': 'E', 'GGT': 'G', 'GGC': 'G', 'GGA': 'G', 'GGG': 'G'}\n",
       "\u001b[1;31mLength:\u001b[0m      64\n",
       "\u001b[1;31mDocstring:\u001b[0m  \n",
       "dict() -> new empty dictionary\n",
       "dict(mapping) -> new dictionary initialized from a mapping object's\n",
       "    (key, value) pairs\n",
       "dict(iterable) -> new dictionary initialized as if via:\n",
       "    d = {}\n",
       "    for k, v in iterable:\n",
       "        d[k] = v\n",
       "dict(**kwargs) -> new dictionary initialized with the name=value pairs\n",
       "    in the keyword argument list.  For example:  dict(one=1, two=2)\n"
      ]
     },
     "metadata": {},
     "output_type": "display_data"
    }
   ],
   "source": [
    "bootcamp_utils.codons?"
   ]
  },
  {
   "cell_type": "code",
   "execution_count": 39,
   "metadata": {},
   "outputs": [],
   "source": [
    "def translate_DNA(seq):\n",
    "    \"\"\"Given a DNA sequence as a string, returns a single-letter-code amino acid sequence.\"\"\"\n",
    "\n",
    "    i = 0\n",
    "    protein = \"\"\n",
    "\n",
    "    while i + 3 <= len(seq):\n",
    "        protein += bootcamp_utils.codons[seq[i : i + 3]]\n",
    "        i += 3\n",
    "\n",
    "    return protein"
   ]
  },
  {
   "cell_type": "code",
   "execution_count": 40,
   "metadata": {},
   "outputs": [
    {
     "data": {
      "text/plain": [
       "'HI*THERE'"
      ]
     },
     "execution_count": 40,
     "metadata": {},
     "output_type": "execute_result"
    }
   ],
   "source": [
    "translate_DNA(\"CATATTTGAACTCATGAACGCGAA\")"
   ]
  },
  {
   "cell_type": "markdown",
   "metadata": {},
   "source": [
    "d) Translate the longest ORF you generated in part (b) into a protein sequence and perform a BLAST search. Search for the protein sequence (a blastp query). What gene is it?"
   ]
  },
  {
   "cell_type": "code",
   "execution_count": 41,
   "metadata": {},
   "outputs": [
    {
     "data": {
      "text/plain": [
       "'MTNYSLRARMMILILAPTVLIGLLLSIFFVVHRYNDLQRQLEDAGASIIEPLAVSSEYGMNLQNRESIGQLISVLHRRHSDIVRAISVYDDHNRLFVTSNFHLDPSQMQLPAGAPFPRRLSVDRHGDIMILRTPIISESYSPDESAIADAKNTKNMLGYVALELDLKSVRLQQYKEIFISSVMMLFCIGIALIFGWRLMRDVTGPIRNMVNTVDRIRRGQLDSRVEGFMLGELDMLKNGINSMAMSLAAYHEEMQHNIDQATSDLRETLEQMEIQNVELDLAKKRAQEAARIKSEFLANMSHELRTPLNGVIGFTRLTLKTELNPTQRDHLNTIERSANNLLAIINDVLDFSKLEAGKLILESIPFPLRNTLDEVVTLLAHSSHDKGLELTLNIKNDVPDNVIGDPLRLQQVITNLVGNAIKFTESGNIDILVEKRALSNTKVQIEVQIRDTGIGIPERDQSRLFQAFRQADASISRRHGGTGLGLVITQKLVNEMGGDISFHSQPNRGSTFWFHINLDLNPNVIIDGPSTACLAGKRLAYVEPNATAAQCTLDLLSDTPVEVVYSPTFSALPLAHYDIMILSVPVTFREPLTMQHERLAKAASMTDFLLLALPCHAQINAEKLKQGGAAACLLKPLTSTRLLPALTEYCQLNHHPEPLLMDTSKITMTVMAVDDNPANLKLIGALLEDKVQHVELCDSGHQAVDRAKQMQFDLILMDIQMPDMDGIRACELIHQLPHQQQTPVIAVTAHAMAGQKEKLLSAGMNDYLAKPIEEEKLHNLLLRYKPGANVAARLMAPEPAEFIFNPNATLDWQLALRQAAGKPDLARDMLQMLIDFLPEVRNKIEEQLVGENPNGLVDLVHKLHGSCGYSGVPRMKNLCQLIEQQLRSGVHEEELEPEFLELLDEMDNVAREAKKILG*'"
      ]
     },
     "execution_count": 41,
     "metadata": {},
     "output_type": "execute_result"
    }
   ],
   "source": [
    "translate_DNA(longest_orf(sal_seq))"
   ]
  },
  {
   "cell_type": "markdown",
   "metadata": {},
   "source": [
    "That's two-component sensor histidine kinase BarA [Salmonella]"
   ]
  },
  {
   "cell_type": "markdown",
   "metadata": {},
   "source": [
    "e) [Bonus challenge] Modify your function to return the n longest ORFs. Compute the five longest ORFs for the Salmonella genome section we are working with. Perform BLAST searches on them. What are they?"
   ]
  },
  {
   "cell_type": "code",
   "execution_count": 42,
   "metadata": {},
   "outputs": [],
   "source": [
    "def longest_orf(seq, n=1):\n",
    "    \"\"\"Finds the n longest open reading frame(s) in a sequence and returns them in a list of strings.\n",
    "    Brute force algorithm that starts at the beginning and compares each successive ORF to see if it's longer.\n",
    "    For ORFs of equivalent length, returns the first one.\n",
    "    \n",
    "    Args:\n",
    "        seq: an input DNA sequence, given as a string\n",
    "        n: number of longest ORFs to return\n",
    "    \n",
    "    Returns:\n",
    "        a string or list of strings containing the n longest open reading frame(s);\n",
    "        that is, the longest substring of seq beginning with ATG; ending with TGA, TAG, or TAA;\n",
    "        and containing a total number of bases that is a multiple of 3.\n",
    "    \"\"\"\n",
    "\n",
    "    longest_orf_list = [\"\"] * n\n",
    "    i = 0\n",
    "\n",
    "    while i <= len(seq):\n",
    "        subseq = seq[i:]\n",
    "        orf_pos = find_first_orf(subseq)\n",
    "        # remember, i refers to seq\n",
    "        # but returned indices refer to subseq; add i to refer to seq\n",
    "\n",
    "        # what if no more ORFs?\n",
    "        if orf_pos == None:\n",
    "            break\n",
    "\n",
    "        orf_len = orf_pos[1] - orf_pos[0]\n",
    "\n",
    "        for index, listed_orf in enumerate(longest_orf_list):\n",
    "            if orf_len > len(listed_orf):\n",
    "                longest_orf_list[index] = seq[orf_pos[0] + i : orf_pos[1] + i]\n",
    "                break\n",
    "\n",
    "        i += orf_pos[0] + 1\n",
    "\n",
    "    return longest_orf_list\n",
    "\n",
    "\n",
    "# gotta rewrite my tests to accept list output\n",
    "\n",
    "\n",
    "def test_for_valid_longest_orfs():\n",
    "    for input_seq in orf_test_inputs:\n",
    "        for orf in longest_orf(input_seq):\n",
    "            assert orf[:3] == \"ATG\"\n",
    "            assert orf[-3:] in stop_codons\n",
    "            assert len(orf) % 3 == 0\n",
    "\n",
    "\n",
    "def test_if_orf_is_longest():\n",
    "    assert longest_orf(\"ATGTAGATGAAAAAATAG\") == [\"ATGAAAAAATAG\"]"
   ]
  },
  {
   "cell_type": "code",
   "execution_count": 43,
   "metadata": {},
   "outputs": [
    {
     "name": "stdout",
     "output_type": "stream",
     "text": [
      "Testing find_first_orf: \n",
      "Success!\n",
      "Testing longest_orf: \n",
      "Success!\n"
     ]
    }
   ],
   "source": [
    "test_all_orf_finders()"
   ]
  },
  {
   "cell_type": "code",
   "execution_count": 44,
   "metadata": {},
   "outputs": [],
   "source": [
    "top_five = longest_orf(sal_seq, n=5)"
   ]
  },
  {
   "cell_type": "code",
   "execution_count": 45,
   "metadata": {},
   "outputs": [
    {
     "name": "stdout",
     "output_type": "stream",
     "text": [
      "ATGACCAACTACAGCCTGCGCGCACGCATGATGATTCTGATCCTGGCCCCGACCGTCCTGATAGGTTTGCTGCTCAGTATCTTTTTTGTAGTGCACCGCT\n",
      "ATGATGATTCTGATCCTGGCCCCGACCGTCCTGATAGGTTTGCTGCTCAGTATCTTTTTTGTAGTGCACCGCTATAACGACCTGCAGCGTCAACTGGAAG\n",
      "ATGATTCTGATCCTGGCCCCGACCGTCCTGATAGGTTTGCTGCTCAGTATCTTTTTTGTAGTGCACCGCTATAACGACCTGCAGCGTCAACTGGAAGATG\n",
      "ATGAACTTACAAAACCGGGAGTCTATCGGCCAACTTATCAGCGTCCTGCACCGCAGACACTCTGATATTGTGCGGGCGATTTCCGTTTATGACGATCATA\n",
      "ATGCAGCTTCCCGCCGGAGCGCCGTTTCCACGTCGTCTGAGCGTTGATCGCCACGGCGATATTATGATTCTGCGCACCCCAATTATCTCGGAGAGCTATT\n"
     ]
    }
   ],
   "source": [
    "for item in top_five:\n",
    "    print(item[:100])"
   ]
  },
  {
   "cell_type": "code",
   "execution_count": 46,
   "metadata": {},
   "outputs": [
    {
     "data": {
      "text/plain": [
       "True"
      ]
     },
     "execution_count": 46,
     "metadata": {},
     "output_type": "execute_result"
    }
   ],
   "source": [
    "# unfortunately, all of these ORFs are contained in the first one, rather than being separate genes.\n",
    "top_five[4] in top_five[0]"
   ]
  },
  {
   "cell_type": "code",
   "execution_count": 47,
   "metadata": {},
   "outputs": [],
   "source": [
    "def check_if_enclosed(tup_1, tup_2):\n",
    "    \"\"\"Given two two-tuples tuples specifying indices, checks whether one is entirely enclosed by the other.\n",
    "    Returns True if enclosed.\"\"\"\n",
    "\n",
    "    len_tup_1 = tup_1[1] - tup_1[0]\n",
    "    len_tup_2 = tup_2[1] - tup_2[0]\n",
    "\n",
    "    if len_tup_2 < len_tup_1:\n",
    "        tup_1, tup_2 = tup_2, tup_1\n",
    "\n",
    "    if tup_1[0] > tup_2[0] and tup_1[1] <= tup_2[1]:\n",
    "        return True\n",
    "    else:\n",
    "        return False"
   ]
  },
  {
   "cell_type": "code",
   "execution_count": 48,
   "metadata": {},
   "outputs": [
    {
     "data": {
      "text/plain": [
       "True"
      ]
     },
     "execution_count": 48,
     "metadata": {},
     "output_type": "execute_result"
    }
   ],
   "source": [
    "check_if_enclosed((2, 4), (1, 5))"
   ]
  },
  {
   "cell_type": "code",
   "execution_count": 49,
   "metadata": {},
   "outputs": [
    {
     "name": "stdout",
     "output_type": "stream",
     "text": [
      "Testing find_first_orf: \n",
      "Success!\n",
      "Testing longest_orf: \n"
     ]
    },
    {
     "ename": "AssertionError",
     "evalue": "",
     "output_type": "error",
     "traceback": [
      "\u001b[1;31m---------------------------------------------------------------------------\u001b[0m",
      "\u001b[1;31mAssertionError\u001b[0m                            Traceback (most recent call last)",
      "\u001b[1;32m<ipython-input-49-c5d97cb3c25a>\u001b[0m in \u001b[0;36m<module>\u001b[1;34m\u001b[0m\n\u001b[0;32m     21\u001b[0m \u001b[1;33m\u001b[0m\u001b[0m\n\u001b[0;32m     22\u001b[0m \u001b[1;33m\u001b[0m\u001b[0m\n\u001b[1;32m---> 23\u001b[1;33m \u001b[0mtest_all_orf_finders\u001b[0m\u001b[1;33m(\u001b[0m\u001b[1;33m)\u001b[0m\u001b[1;33m\u001b[0m\u001b[1;33m\u001b[0m\u001b[0m\n\u001b[0m",
      "\u001b[1;32m<ipython-input-49-c5d97cb3c25a>\u001b[0m in \u001b[0;36mtest_all_orf_finders\u001b[1;34m()\u001b[0m\n\u001b[0;32m     16\u001b[0m     \u001b[0mtest_for_valid_longest_orfs\u001b[0m\u001b[1;33m(\u001b[0m\u001b[1;33m)\u001b[0m\u001b[1;33m\u001b[0m\u001b[1;33m\u001b[0m\u001b[0m\n\u001b[0;32m     17\u001b[0m     \u001b[0mtest_if_orf_is_longest\u001b[0m\u001b[1;33m(\u001b[0m\u001b[1;33m)\u001b[0m\u001b[1;33m\u001b[0m\u001b[1;33m\u001b[0m\u001b[0m\n\u001b[1;32m---> 18\u001b[1;33m     \u001b[0mtest_two_outputs_longest_orf\u001b[0m\u001b[1;33m(\u001b[0m\u001b[1;33m)\u001b[0m\u001b[1;33m\u001b[0m\u001b[1;33m\u001b[0m\u001b[0m\n\u001b[0m\u001b[0;32m     19\u001b[0m     \u001b[0mtest_exclude_enclosed\u001b[0m\u001b[1;33m(\u001b[0m\u001b[1;33m)\u001b[0m\u001b[1;33m\u001b[0m\u001b[1;33m\u001b[0m\u001b[0m\n\u001b[0;32m     20\u001b[0m     \u001b[0mprint\u001b[0m\u001b[1;33m(\u001b[0m\u001b[1;34m\"Success!\"\u001b[0m\u001b[1;33m)\u001b[0m\u001b[1;33m\u001b[0m\u001b[1;33m\u001b[0m\u001b[0m\n",
      "\u001b[1;32m<ipython-input-49-c5d97cb3c25a>\u001b[0m in \u001b[0;36mtest_two_outputs_longest_orf\u001b[1;34m()\u001b[0m\n\u001b[0;32m      1\u001b[0m \u001b[1;32mdef\u001b[0m \u001b[0mtest_two_outputs_longest_orf\u001b[0m\u001b[1;33m(\u001b[0m\u001b[1;33m)\u001b[0m\u001b[1;33m:\u001b[0m\u001b[1;33m\u001b[0m\u001b[1;33m\u001b[0m\u001b[0m\n\u001b[1;32m----> 2\u001b[1;33m     \u001b[1;32massert\u001b[0m \u001b[0msorted\u001b[0m\u001b[1;33m(\u001b[0m\u001b[0mlongest_orf\u001b[0m\u001b[1;33m(\u001b[0m\u001b[1;34m\"ATGTAGATGAAAAAATAG\"\u001b[0m\u001b[1;33m,\u001b[0m \u001b[0mn\u001b[0m\u001b[1;33m=\u001b[0m\u001b[1;36m2\u001b[0m\u001b[1;33m)\u001b[0m\u001b[1;33m)\u001b[0m \u001b[1;33m==\u001b[0m \u001b[1;33m[\u001b[0m\u001b[1;34m\"ATGAAAAAATAG\"\u001b[0m\u001b[1;33m,\u001b[0m \u001b[1;34m\"ATGTAG\"\u001b[0m\u001b[1;33m]\u001b[0m\u001b[1;33m\u001b[0m\u001b[1;33m\u001b[0m\u001b[0m\n\u001b[0m\u001b[0;32m      3\u001b[0m \u001b[1;33m\u001b[0m\u001b[0m\n\u001b[0;32m      4\u001b[0m \u001b[1;33m\u001b[0m\u001b[0m\n\u001b[0;32m      5\u001b[0m \u001b[1;32mdef\u001b[0m \u001b[0mtest_exclude_enclosed\u001b[0m\u001b[1;33m(\u001b[0m\u001b[1;33m)\u001b[0m\u001b[1;33m:\u001b[0m\u001b[1;33m\u001b[0m\u001b[1;33m\u001b[0m\u001b[0m\n",
      "\u001b[1;31mAssertionError\u001b[0m: "
     ]
    }
   ],
   "source": [
    "def test_two_outputs_longest_orf():\n",
    "    assert sorted(longest_orf(\"ATGTAGATGAAAAAATAG\", n=2)) == [\"ATGAAAAAATAG\", \"ATGTAG\"]\n",
    "\n",
    "\n",
    "def test_exclude_enclosed():\n",
    "    assert sorted(longest_orf(\"ATGATGTAG\", n=2)) == [\"\", \"ATGATGTAG\"]\n",
    "\n",
    "\n",
    "def test_all_orf_finders():\n",
    "    print(\"Testing find_first_orf: \")\n",
    "    test_for_valid_first_orfs()\n",
    "    test_find_first_orf_basic()\n",
    "    print(\"Success!\")\n",
    "\n",
    "    print(\"Testing longest_orf: \")\n",
    "    test_for_valid_longest_orfs()\n",
    "    test_if_orf_is_longest()\n",
    "    test_two_outputs_longest_orf()\n",
    "    test_exclude_enclosed()\n",
    "    print(\"Success!\")\n",
    "\n",
    "\n",
    "test_all_orf_finders()"
   ]
  },
  {
   "cell_type": "code",
   "execution_count": 50,
   "metadata": {},
   "outputs": [],
   "source": [
    "def len_from_indices(indices):\n",
    "    \"\"\"Given a two-tuple of indices, returns the length of the indicated sequence.\"\"\"\n",
    "    return indices[1] - indices[0]\n",
    "\n",
    "\n",
    "def longest_orf(seq, n=1):\n",
    "    \"\"\"Finds the n longest open reading frame(s) in a sequence and returns them in a list of strings.\n",
    "    Brute force algorithm that starts at the beginning and compares each successive ORF to see if it's longer.\n",
    "    For ORFs of equivalent length, returns the first one.\n",
    "    \n",
    "    Args:\n",
    "        seq: an input DNA sequence, given as a string\n",
    "        n: number of longest ORFs to return\n",
    "    \n",
    "    Returns:\n",
    "        a string or list of strings containing the n longest open reading frame(s);\n",
    "        that is, the longest substring of seq beginning with ATG; ending with TGA, TAG, or TAA;\n",
    "        and containing a total number of bases that is a multiple of 3.\n",
    "    \"\"\"\n",
    "\n",
    "    longest_orf_indices = [(0, 0),] * n\n",
    "    i = 0\n",
    "\n",
    "    # create list of incides\n",
    "    while i <= len(seq):\n",
    "        subseq = seq[i:]\n",
    "        orf_pos = find_first_orf(subseq)\n",
    "        # remember, i refers to seq\n",
    "        # but returned indices refer to subseq; add i to refer to seq\n",
    "\n",
    "        # what if no more ORFs?\n",
    "        if orf_pos == None:\n",
    "            break\n",
    "\n",
    "        orf_pos_plus_i = (orf_pos[0] + i, orf_pos[1] + i)\n",
    "\n",
    "        orf_len = len_from_indices(orf_pos)\n",
    "\n",
    "        enclosed = False\n",
    "        for item, orf_indices in enumerate(longest_orf_indices):\n",
    "            if check_if_enclosed(orf_pos_plus_i, orf_indices):\n",
    "                enclosed = True\n",
    "                break\n",
    "\n",
    "        if enclosed == False:\n",
    "            for item, orf_indices in enumerate(longest_orf_indices):\n",
    "                listed_orf_len = len_from_indices(orf_indices)\n",
    "                if orf_len > listed_orf_len:\n",
    "                    longest_orf_indices[item] = orf_pos_plus_i\n",
    "                    longest_orf_indices.sort(key=len_from_indices)\n",
    "                    break\n",
    "\n",
    "        i += orf_pos[0] + 1\n",
    "\n",
    "    longest_orf_list = []\n",
    "    # translate indices to ORFs\n",
    "    for orf in longest_orf_indices:\n",
    "        longest_orf_list.append(seq[orf[0] : orf[1]])\n",
    "\n",
    "    return longest_orf_list"
   ]
  },
  {
   "cell_type": "code",
   "execution_count": 51,
   "metadata": {},
   "outputs": [
    {
     "name": "stdout",
     "output_type": "stream",
     "text": [
      "Testing find_first_orf: \n",
      "Success!\n",
      "Testing longest_orf: \n",
      "Success!\n"
     ]
    }
   ],
   "source": [
    "test_all_orf_finders()"
   ]
  },
  {
   "cell_type": "code",
   "execution_count": 52,
   "metadata": {},
   "outputs": [],
   "source": [
    "top_five = longest_orf(sal_seq, n=5)"
   ]
  },
  {
   "cell_type": "code",
   "execution_count": 53,
   "metadata": {},
   "outputs": [
    {
     "name": "stdout",
     "output_type": "stream",
     "text": [
      "ATGCCACATTTTAATCCTGTTCCTGTATCGAATAAAAAATTCGTCTTTGATGATTTCATACTCAACATGGACGGCTCCCTGCTACGCTCAGAAAAGAAAG\n",
      "ATGAAAAAAATCAGCTTACCGAAAATCGGTATCCGCCCGGTGATTGATGGACGTCGTATGGGCGTACGCGAGTCGCTCGAAGAGCAAACCATGAACATGG\n",
      "ATGTCGTATACACCCATGAGCGATCTTGGACAGCAAGGCTTGTTCGATATCACTCGTACCTTATTGCAGCAGCCCGATTTGGCGTCGCTCAGTGAAGCGC\n",
      "ATGAATGAGTCATTTGATAAGGACTTCTCCAACCACACCCCGATGATGCAGCAGTATCTCAAGCTGAAAGCCCAGCATCCGGAGATCCTGCTCTTTTATC\n",
      "ATGACCAACTACAGCCTGCGCGCACGCATGATGATTCTGATCCTGGCCCCGACCGTCCTGATAGGTTTGCTGCTCAGTATCTTTTTTGTAGTGCACCGCT\n"
     ]
    }
   ],
   "source": [
    "for item in top_five:\n",
    "    print(item[:100])"
   ]
  },
  {
   "cell_type": "code",
   "execution_count": 54,
   "metadata": {},
   "outputs": [
    {
     "name": "stdout",
     "output_type": "stream",
     "text": [
      "top_five[0] in top_five[0]:  True\n",
      "top_five[0] in top_five[1]:  False\n",
      "top_five[0] in top_five[2]:  False\n",
      "top_five[0] in top_five[3]:  False\n",
      "top_five[0] in top_five[4]:  False\n",
      "top_five[1] in top_five[0]:  False\n",
      "top_five[1] in top_five[1]:  True\n",
      "top_five[1] in top_five[2]:  False\n",
      "top_five[1] in top_five[3]:  False\n",
      "top_five[1] in top_five[4]:  False\n",
      "top_five[2] in top_five[0]:  False\n",
      "top_five[2] in top_five[1]:  False\n",
      "top_five[2] in top_five[2]:  True\n",
      "top_five[2] in top_five[3]:  False\n",
      "top_five[2] in top_five[4]:  False\n",
      "top_five[3] in top_five[0]:  False\n",
      "top_five[3] in top_five[1]:  False\n",
      "top_five[3] in top_five[2]:  False\n",
      "top_five[3] in top_five[3]:  True\n",
      "top_five[3] in top_five[4]:  False\n",
      "top_five[4] in top_five[0]:  False\n",
      "top_five[4] in top_five[1]:  False\n",
      "top_five[4] in top_five[2]:  False\n",
      "top_five[4] in top_five[3]:  False\n",
      "top_five[4] in top_five[4]:  True\n"
     ]
    }
   ],
   "source": [
    "for i in range(5):\n",
    "    for j in range(5):\n",
    "        print(f\"top_five[{i}] in top_five[{j}]: \", top_five[i] in top_five[j])"
   ]
  },
  {
   "cell_type": "code",
   "execution_count": 55,
   "metadata": {},
   "outputs": [],
   "source": [
    "proteins = []\n",
    "\n",
    "for seq in top_five:\n",
    "    proteins.append(translate_DNA(seq))"
   ]
  },
  {
   "cell_type": "code",
   "execution_count": 56,
   "metadata": {},
   "outputs": [
    {
     "data": {
      "text/plain": [
       "['MPHFNPVPVSNKKFVFDDFILNMDGSLLRSEKKVNIPPKEYAVLVILLEAAGEIVSKNTLLDQVWGDAEVNEESLTRCIYALRRILSEDKEHRYIETLYGQGYRFNRPVVVVSPPAPQPTTHTLAILPFQMQDQVQSESLHYSIVKGLSQYAPFGLSVLPVTITKNCRSVKDILELMDQLRPDYYISGQMIPDGNDNIVQIEIVRVKGYHLLHQESIKLIEHQPASLLQNKIANLLLRCIPGLRWDTKQISELNSIDSTMVYLRGKHELNQYTPYSLQQALKLLTQCVNMSPNSIAPYCALAECYLSMAQMGIFDKQNAMIKAKEHAIKATELDHNNPQALGLLGLINTIHSEYIVGSLLFKQANLLSPISADIKYYYGWNLFMAGQLEEALQTINECLKLDPTRAAAGITKLWITYYHTGIDDAIRLGDELRSQHLQDNPILLSMQVMFLSLKGKHELARKLTKEISTQEITGLIAVNLLYAEYCQNSERALPTIREFLESEQRIDNNPGLLPLVLVAHGEAIAEKMWNKFKNEDNIWFKRWKQDPRLIKLR*',\n",
       " 'MKKISLPKIGIRPVIDGRRMGVRESLEEQTMNMAKATAALITEKIRHACGAQVECVIADTCIAGMAESAACEEKFSSQNVGVTITVTPCWCYGSETIDMDPMRPKAIWGFNGTERPGAVYLAAALAAHSQKGIPAFSIYGHDVQDADDTSIPADVEEKLLRFARAGLAVASMKGKSYLSVGGVSMGIAGSIVDHNFFESWLGMKVQAVDMTELRRRIDQKIYDEAELEMALAWADKNFRYGEDQNASQYKRNEAQNRAVLKESLLMAMCIRDMMQGNKTLADKGLVEESLGYNAIAAGFQGQRHWTDQYPNGDTAEALLNSSFDWNGVREPFVVATENDSLNGVAMLFGHQLTGTAQIFADVRTYWSPEAVERVTGQALSGLAEHGIIHLINSGSAALDGACKQRDSEGKPTMKPHWEISQQEADACLAATEWCPAIHEYFRGGGYSSRFLTEGGVPFTMTRVNIIKGLGPVLQIAEGWSVELPKAMHDQLDARTNSTWPTTWFAPRLTGKGPFTDVYSVMANWGANHGVLTIGHVGADFITLAAMLRIPVCMHNVEEAKIYRPSAWAAHGMDIEGQDYRACQNYGPLYKR*',\n",
       " 'MSYTPMSDLGQQGLFDITRTLLQQPDLASLSEALSQLVKRSALADSAGIVLWQAQSQRAQYYATRENGRPVEYEDETVLAHGPVRRILSRPDALHCNFHEFTETWPQLAASGLYPEFGHYCLLPLAAEGRIFGGCEFIRQEDRPWSEKEYDRLHTFTQIVGVVAEQIQNRVNNNVDYDLLCRERDNFRILVAITNAVLSRLDIDELVSEVAKEIHHYFNIDAISIVLRSHRKNKLNIYSTHYLDEHHPAHEQSEVDEAGTLTERVFKSKEMLLINLNERDPLAPYERMLFDTWGNQIQTLCLLPLMSGKTMLGVLKLAQCEEKVFTTANLKLLRQIAERVAIAVDNALAYQEIHRLKERLVDENLALTEQLNNVDSEFGEIIGRSEAMYNVLKQVEMVAQSDSTVLILGETGTGKELIARAIHNLSGRSGRRMVKMNCAAMPAGLLESDLFGHERGAFTGASAQRIGRFELADKSSLFLDEVGDMPLELQPKLLRVLQEQEFERLGSNKLIQTDVRLIAATNRDLKKMVADREFRNDLYYRLNVFPIQLPPLRERPEDIPLLVKAFTFKIARRMGRNIDSIPAETLRTLSSMEWPGNVRELENVVERAVLLTRGNVLQLSLPDITAVTPDTSPVATESAKEGEDEYQLIIRVLKETNGVVAGPKGAAQRLGLKRTTLLSRMKRLGIDKDALA*',\n",
       " 'MNESFDKDFSNHTPMMQQYLKLKAQHPEILLFYRMGDFYELFYDDAKRASQLLDISLTKRGASAGEPIPMAGIPHHAVENYLAKLVNQGESVAICEQIGDPATSKGPVERKVVRIVTPGTISDEALLQERQDNLLAAIWQDGKGYGYATLDISSGRFRLSEPADRETMAAELQRTNPAELLYAEDFAEMALIEGRRGLRRRPLWEFEIDTARQQLNLQFGTRDLVGFGVENASRGLCAAGCLLQYVKDTQRTSLPHIRSITMERQQDSIIMDAATRRNLEITQNLAGGVENTLAAVLDCTVTPMGSRMLKRWLHMPVRNTDILRERQQTIGALQDTVSELQPVLRQVGDLERILARLALRTARPRDLARMRHAFQQLPELHAQLETVDSAPVQALRKKMGDFAELRDLLERAIIDAPPVLVRDGGVIAPGYHEELDEWRALADGATDYLDRLEIRERERTGLDTLKVGYNAVHGYYIQISRGQSHLAPINYVRRQTLKNAERYIIPELKEYEDKVLTSKGKALALEKQLYDELFDLLLPHLADLQQSANALAELDVLVNLAERAWTLNYTCPTFTDKPGIRITEGRHPVVEQVLNEPFIANPLNLSPQRRMLIITGPNMGGKSTYMRQTALIALLAYIGSYVPAQNVEIGPIDRIFTRVGAADDLASGRSTFMVEMTETANILHNATENSLVLMDEIGRGTSTYDGLSLAWACAENLANKIKALTLFATHYFELTQLPEKMEGVANVHLDALEHGDTIAFMHSVQDGAASKSYGLAVAALAGVPKEVIKRARQKLRELESISPNAAATQVDGTQMSLLAAPEETSPAVEALENLDPDSLTPRQALEWIYRLKSLV*',\n",
       " 'MTNYSLRARMMILILAPTVLIGLLLSIFFVVHRYNDLQRQLEDAGASIIEPLAVSSEYGMNLQNRESIGQLISVLHRRHSDIVRAISVYDDHNRLFVTSNFHLDPSQMQLPAGAPFPRRLSVDRHGDIMILRTPIISESYSPDESAIADAKNTKNMLGYVALELDLKSVRLQQYKEIFISSVMMLFCIGIALIFGWRLMRDVTGPIRNMVNTVDRIRRGQLDSRVEGFMLGELDMLKNGINSMAMSLAAYHEEMQHNIDQATSDLRETLEQMEIQNVELDLAKKRAQEAARIKSEFLANMSHELRTPLNGVIGFTRLTLKTELNPTQRDHLNTIERSANNLLAIINDVLDFSKLEAGKLILESIPFPLRNTLDEVVTLLAHSSHDKGLELTLNIKNDVPDNVIGDPLRLQQVITNLVGNAIKFTESGNIDILVEKRALSNTKVQIEVQIRDTGIGIPERDQSRLFQAFRQADASISRRHGGTGLGLVITQKLVNEMGGDISFHSQPNRGSTFWFHINLDLNPNVIIDGPSTACLAGKRLAYVEPNATAAQCTLDLLSDTPVEVVYSPTFSALPLAHYDIMILSVPVTFREPLTMQHERLAKAASMTDFLLLALPCHAQINAEKLKQGGAAACLLKPLTSTRLLPALTEYCQLNHHPEPLLMDTSKITMTVMAVDDNPANLKLIGALLEDKVQHVELCDSGHQAVDRAKQMQFDLILMDIQMPDMDGIRACELIHQLPHQQQTPVIAVTAHAMAGQKEKLLSAGMNDYLAKPIEEEKLHNLLLRYKPGANVAARLMAPEPAEFIFNPNATLDWQLALRQAAGKPDLARDMLQMLIDFLPEVRNKIEEQLVGENPNGLVDLVHKLHGSCGYSGVPRMKNLCQLIEQQLRSGVHEEELEPEFLELLDEMDNVAREAKKILG*']"
      ]
     },
     "execution_count": 56,
     "metadata": {},
     "output_type": "execute_result"
    }
   ],
   "source": [
    "proteins"
   ]
  },
  {
   "cell_type": "code",
   "execution_count": null,
   "metadata": {},
   "outputs": [],
   "source": []
  }
 ],
 "metadata": {
  "kernelspec": {
   "display_name": "Python 3",
   "language": "python",
   "name": "python3"
  },
  "language_info": {
   "codemirror_mode": {
    "name": "ipython",
    "version": 3
   },
   "file_extension": ".py",
   "mimetype": "text/x-python",
   "name": "python",
   "nbconvert_exporter": "python",
   "pygments_lexer": "ipython3",
   "version": "3.7.7"
  }
 },
 "nbformat": 4,
 "nbformat_minor": 4
}
