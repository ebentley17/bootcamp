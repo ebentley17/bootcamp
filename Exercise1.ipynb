{
 "cells": [
  {
   "cell_type": "markdown",
   "metadata": {},
   "source": [
    "Exercise 1.1: Using string methods\n",
    "In Lesson 7, we wrote a function to compute the reverse complement of a sequence."
   ]
  },
  {
   "cell_type": "code",
   "execution_count": 1,
   "metadata": {},
   "outputs": [],
   "source": [
    "#this is Justin's original code\n",
    "\n",
    "def complement_base(base):\n",
    "    \"\"\"Returns the Watson-Crick complement of a base.\"\"\"\n",
    "    # Convert to lowercase\n",
    "    base = base.lower()\n",
    "    \n",
    "    if base == 'a':\n",
    "        return 'T'\n",
    "    elif base == 't':\n",
    "        return 'A'\n",
    "    elif base == 'g':\n",
    "        return 'C'\n",
    "    else:\n",
    "        return 'G'\n",
    "\n",
    "\n",
    "def reverse_complement(seq):\n",
    "    \"\"\"Compute reverse complement of a sequence.\"\"\"\n",
    "    # Initialize reverse complement\n",
    "    rev_seq = ''\n",
    "    \n",
    "    # Loop through and populate list with reverse complement\n",
    "    for base in reversed(seq):\n",
    "        rev_seq += complement_base(base)\n",
    "        \n",
    "    return rev_seq"
   ]
  },
  {
   "cell_type": "code",
   "execution_count": 2,
   "metadata": {},
   "outputs": [
    {
     "data": {
      "text/plain": [
       "'TGCAACTGC'"
      ]
     },
     "execution_count": 2,
     "metadata": {},
     "output_type": "execute_result"
    }
   ],
   "source": [
    "#basic test\n",
    "reverse_complement('GCAGTTGCA')"
   ]
  },
  {
   "cell_type": "markdown",
   "metadata": {},
   "source": [
    "a) Write that function again, still using a for loop, but do not use the built-in reversed() function."
   ]
  },
  {
   "cell_type": "code",
   "execution_count": 3,
   "metadata": {},
   "outputs": [],
   "source": [
    "#now without the reversed function\n",
    "\n",
    "#complement_base is still defined from above\n",
    "\n",
    "def reverse_complement_with_slicing(seq):\n",
    "    \"\"\"Compute reverse complement of a sequence.\"\"\"\n",
    "    # Initialize reverse complement\n",
    "    rev_seq = ''\n",
    "    \n",
    "    # Loop through and populate list with reverse complement\n",
    "    for base in seq[::-1]:\n",
    "        rev_seq += complement_base(base)\n",
    "        \n",
    "    return rev_seq"
   ]
  },
  {
   "cell_type": "code",
   "execution_count": 4,
   "metadata": {},
   "outputs": [
    {
     "data": {
      "text/plain": [
       "'TGCAACTGC'"
      ]
     },
     "execution_count": 4,
     "metadata": {},
     "output_type": "execute_result"
    }
   ],
   "source": [
    "#basic test\n",
    "reverse_complement_with_slicing('GCAGTTGCA')"
   ]
  },
  {
   "cell_type": "markdown",
   "metadata": {},
   "source": [
    "b) Write the function one more time, but without any looping."
   ]
  },
  {
   "cell_type": "code",
   "execution_count": 5,
   "metadata": {},
   "outputs": [],
   "source": [
    "#without any looping\n",
    "\n",
    "def reverse_complement_no_loops(seq):\n",
    "    \"\"\"Compute reverse complement of a sequence.\"\"\"\n",
    "    #convert to lowercase\n",
    "    seq = seq.lower()\n",
    "    #later, convert to uppercase complements to avoid re-converting anything\n",
    "    \n",
    "    #first reverse it\n",
    "    rev_seq = seq[::-1]\n",
    "    \n",
    "    #then replace with complements using replace() string method\n",
    "    #in each line, rc_seq overwrites the previous sequence\n",
    "    rc_seq = rev_seq.replace('a', 'T')\n",
    "    rc_seq = rc_seq.replace('t', 'A')\n",
    "    rc_seq = rc_seq.replace('g', 'C')\n",
    "    rc_seq = rc_seq.replace('c', 'G')\n",
    "        \n",
    "    return rc_seq"
   ]
  },
  {
   "cell_type": "code",
   "execution_count": 6,
   "metadata": {},
   "outputs": [
    {
     "data": {
      "text/plain": [
       "'TGCAACTGC'"
      ]
     },
     "execution_count": 6,
     "metadata": {},
     "output_type": "execute_result"
    }
   ],
   "source": [
    "#basic test\n",
    "reverse_complement_no_loops('GCAGTTGCA')"
   ]
  },
  {
   "cell_type": "code",
   "execution_count": 7,
   "metadata": {},
   "outputs": [],
   "source": [
    "#same idea, more concise\n",
    "\n",
    "def my_reverse_complement(seq):\n",
    "    \"\"\"Compute reverse complement of a sequence.\"\"\"\n",
    "    #convert to lowercase\n",
    "    seq = seq.lower()\n",
    "    #later, convert to uppercase complements to avoid re-converting anything\n",
    "    \n",
    "    #first reverse it\n",
    "    rev_seq = seq[::-1]\n",
    "    \n",
    "    #then replace with complements using replace() string method\n",
    "    rc_seq = rev_seq.replace('a', 'T').replace('t', 'A').replace('g', 'C').replace('c', 'G')\n",
    "        \n",
    "    return rc_seq"
   ]
  },
  {
   "cell_type": "code",
   "execution_count": 8,
   "metadata": {},
   "outputs": [
    {
     "data": {
      "text/plain": [
       "'TGCAACTGC'"
      ]
     },
     "execution_count": 8,
     "metadata": {},
     "output_type": "execute_result"
    }
   ],
   "source": [
    "#basic test\n",
    "my_reverse_complement('GCAGTTGCA')"
   ]
  },
  {
   "cell_type": "markdown",
   "metadata": {},
   "source": [
    "Exercise 1.2: Longest common substring\n",
    "\n",
    "Write a function that takes two sequences and returns the longest common substring. A substring is a contiguous portion of a string."
   ]
  },
  {
   "cell_type": "code",
   "execution_count": 9,
   "metadata": {},
   "outputs": [
    {
     "ename": "SyntaxError",
     "evalue": "unexpected EOF while parsing (<ipython-input-9-5a8deeef6e57>, line 5)",
     "output_type": "error",
     "traceback": [
      "\u001b[1;36m  File \u001b[1;32m\"<ipython-input-9-5a8deeef6e57>\"\u001b[1;36m, line \u001b[1;32m5\u001b[0m\n\u001b[1;33m    #it's not done yet, so this will throw an error since the function never finishes\u001b[0m\n\u001b[1;37m                                                                                     ^\u001b[0m\n\u001b[1;31mSyntaxError\u001b[0m\u001b[1;31m:\u001b[0m unexpected EOF while parsing\n"
     ]
    }
   ],
   "source": [
    "#here is the format Justin requested:\n",
    "\n",
    "def longest_common_substring(s1, s2): \n",
    "    \n",
    "#it's not done yet, so this will throw an error since the function never finishes"
   ]
  },
  {
   "cell_type": "code",
   "execution_count": 26,
   "metadata": {},
   "outputs": [
    {
     "name": "stdout",
     "output_type": "stream",
     "text": [
      "a ab\n"
     ]
    }
   ],
   "source": [
    "#we need to know which substring is shorter for this - I'm going to set str1 to be the shorter\n",
    "\n",
    "#set some values for testing:\n",
    "s1 = 'ab'\n",
    "s2 = 'a'\n",
    "\n",
    "if len(s1) <= len(s2):\n",
    "    str1 = s1\n",
    "    str2 = s2\n",
    "else:\n",
    "    str1 = s2\n",
    "    str2 = s1\n",
    "    \n",
    "#even if I change s1 and s2 above, they should always be printed shortest-first here\n",
    "#if they are the same length, it doesn't matter\n",
    "print(str1, str2)"
   ]
  },
  {
   "cell_type": "code",
   "execution_count": 27,
   "metadata": {},
   "outputs": [
    {
     "ename": "SyntaxError",
     "evalue": "'return' outside function (<ipython-input-27-50c5aee82229>, line 4)",
     "output_type": "error",
     "traceback": [
      "\u001b[1;36m  File \u001b[1;32m\"<ipython-input-27-50c5aee82229>\"\u001b[1;36m, line \u001b[1;32m4\u001b[0m\n\u001b[1;33m    return substr\u001b[0m\n\u001b[1;37m    ^\u001b[0m\n\u001b[1;31mSyntaxError\u001b[0m\u001b[1;31m:\u001b[0m 'return' outside function\n"
     ]
    }
   ],
   "source": [
    "#the most straightforward way I can think to do this is using the 'in' function\n",
    "\n",
    "if substr in str2 == True:\n",
    "    return substr\n",
    "    \n",
    "#this is going to return an error, but I want to show what the code will look like"
   ]
  },
  {
   "cell_type": "code",
   "execution_count": 28,
   "metadata": {},
   "outputs": [
    {
     "ename": "SyntaxError",
     "evalue": "'return' outside function (<ipython-input-28-55cd716f1717>, line 23)",
     "output_type": "error",
     "traceback": [
      "\u001b[1;36m  File \u001b[1;32m\"<ipython-input-28-55cd716f1717>\"\u001b[1;36m, line \u001b[1;32m23\u001b[0m\n\u001b[1;33m    return substr\u001b[0m\n\u001b[1;37m    ^\u001b[0m\n\u001b[1;31mSyntaxError\u001b[0m\u001b[1;31m:\u001b[0m 'return' outside function\n"
     ]
    }
   ],
   "source": [
    "#so I want to check for the biggest possible substring\n",
    "#NOTE: THIS IS EFFECTIVELY THE SAME STRATEGY AS JUSTIN USES, BUT HIS CODE IS MUCH CLEANER\n",
    "\n",
    "n = len(str1)\n",
    "\n",
    "#then I want to scan through the string, starting from the beginning, in n-length chunks\n",
    "\n",
    "for i,_ in enumerate(str1):\n",
    "#this lets me iterate through all the starting points in str1\n",
    "\n",
    "    substr = str1[i:i+n]\n",
    "    #this is the important slice!\n",
    "    #it will check chunks of size n, starting at the beginning and scanning through\n",
    "    #will check 0:n, then 1:n+1\n",
    "    \n",
    "    #but eventually this will run off the end of the string!\n",
    "    if len(substr) < n:\n",
    "        break\n",
    "        \n",
    "        #now we want it to start over with a new n, to check for the next-biggest chunk\n",
    "        #we want this whole i loop to be inside an n loop counting down\n",
    "        \n",
    "    if substr in str2:\n",
    "        return substr\n",
    "    \n",
    "#again, this will cause an error, but I want to see what the code will look like as I'm working on it"
   ]
  },
  {
   "cell_type": "code",
   "execution_count": 29,
   "metadata": {},
   "outputs": [],
   "source": [
    "#altogether:\n",
    "\n",
    "def longest_common_substring(s1, s2):\n",
    "    '''Returns one longest common substring.'''\n",
    "    \n",
    "    #first, organize str1 to always be the shorter\n",
    "    if len(s1) <= len(s2):\n",
    "        str1 = s1\n",
    "        str2 = s2\n",
    "    else:\n",
    "        str1 = s2\n",
    "        str2 = s1\n",
    "    \n",
    "    #our biggest chunk is the length of the smaller string\n",
    "    n = len(str1)\n",
    "    \n",
    "    #do countdown of n to define length of chunks\n",
    "    for n in reversed(range(n)):\n",
    "        #scan through sequences\n",
    "        for i,_ in enumerate(str1):\n",
    "            substr = str1[i:i+n]\n",
    "            \n",
    "            #check whether we've run off the end of the sequence:\n",
    "            if len(substr) < n:\n",
    "                #break the second loop iterating i; continue iterating n downward\n",
    "                break\n",
    "                \n",
    "            if substr in str2:\n",
    "                return substr\n",
    "            else:\n",
    "                #iterate up i\n",
    "                pass\n",
    "            \n",
    "    #consider what happens if no common substring\n",
    "    #we should only reach this code if we've counted all the way down to n = 0 and not found any substrings\n",
    "    #the 'return' keyword, if it is reached, will exit the function and this will not be printed\n",
    "    print('There are no common substrings.')"
   ]
  },
  {
   "cell_type": "code",
   "execution_count": 30,
   "metadata": {},
   "outputs": [
    {
     "data": {
      "text/plain": [
       "'ATG'"
      ]
     },
     "execution_count": 30,
     "metadata": {},
     "output_type": "execute_result"
    }
   ],
   "source": [
    "#testing!\n",
    "longest_common_substring('ATGC', 'ATGCA')"
   ]
  },
  {
   "cell_type": "code",
   "execution_count": 31,
   "metadata": {},
   "outputs": [
    {
     "data": {
      "text/plain": [
       "'ATGC'"
      ]
     },
     "execution_count": 31,
     "metadata": {},
     "output_type": "execute_result"
    }
   ],
   "source": [
    "longest_common_substring('GATGCCATGCA', 'ATGCC')"
   ]
  },
  {
   "cell_type": "code",
   "execution_count": 32,
   "metadata": {},
   "outputs": [
    {
     "data": {
      "text/plain": [
       "''"
      ]
     },
     "execution_count": 32,
     "metadata": {},
     "output_type": "execute_result"
    }
   ],
   "source": [
    "longest_common_substring('0123', 'ATGCC')"
   ]
  },
  {
   "cell_type": "markdown",
   "metadata": {},
   "source": [
    "We're close, but there's a problem - the substrings are shorter than they should be, and the \"no common substrings\" message doesn't print.\n",
    "Let's print several check points to see what's happening\n",
    "\n",
    "I ran tests with this code a bunch of times, tweaking it, until I figured out the problem in the first for loop. Reverse(range(n)) counts down starting at n-1 and ending with 0; I want it to count down from n to 1. See fix below, along with the printing checkpoints."
   ]
  },
  {
   "cell_type": "code",
   "execution_count": 33,
   "metadata": {},
   "outputs": [],
   "source": [
    "def longest_common_substring(s1, s2):\n",
    "    '''Returns one longest common substring.'''\n",
    "    \n",
    "    #first, organize str1 to always be the shorter\n",
    "    if len(s1) <= len(s2):\n",
    "        str1 = s1\n",
    "        str2 = s2\n",
    "    else:\n",
    "        str1 = s2\n",
    "        str2 = s1\n",
    "    \n",
    "    #our biggest chunk is the length of the smaller string\n",
    "    n = len(str1)\n",
    "    print('Initialized n = ' + str(n))\n",
    "    \n",
    "    #do countdown of n to define length of chunks\n",
    "    for n in reversed(range(1, n+1)):    #this is the line I had to fix!\n",
    "        print('n = ' + str(n))\n",
    "        \n",
    "        #scan through sequences\n",
    "        for i,_ in enumerate(str1):\n",
    "            print('i = ' + str(i))\n",
    "            substr = str1[i:i+n]\n",
    "            print('Now checking substring ' + substr)\n",
    "            print('Substring length: '+ str(len(substr)))\n",
    "            \n",
    "            #check whether we've run off the end of the sequence:\n",
    "            if len(substr) < n:\n",
    "                print('Substring is too short; breaking loop.')\n",
    "                #break the second loop iterating i; continue iterating n downward\n",
    "                break\n",
    "                \n",
    "            if substr in str2:\n",
    "                print('Match found.')\n",
    "                return substr\n",
    "            else:\n",
    "                print('No match found.')\n",
    "                #iterate up i\n",
    "                pass\n",
    "            \n",
    "    #consider what happens if no common substring\n",
    "    #we should only reach this code if we've counted all the way down to n = 0 and not found any substrings\n",
    "    print('There are no common substrings.')"
   ]
  },
  {
   "cell_type": "code",
   "execution_count": 34,
   "metadata": {},
   "outputs": [
    {
     "name": "stdout",
     "output_type": "stream",
     "text": [
      "Initialized n = 4\n",
      "n = 4\n",
      "i = 0\n",
      "Now checking substring ATGC\n",
      "Substring length: 4\n",
      "Match found.\n"
     ]
    },
    {
     "data": {
      "text/plain": [
       "'ATGC'"
      ]
     },
     "execution_count": 34,
     "metadata": {},
     "output_type": "execute_result"
    }
   ],
   "source": [
    "longest_common_substring('ATGC', 'ATGCA')"
   ]
  },
  {
   "cell_type": "code",
   "execution_count": 35,
   "metadata": {},
   "outputs": [
    {
     "name": "stdout",
     "output_type": "stream",
     "text": [
      "Initialized n = 5\n",
      "n = 5\n",
      "i = 0\n",
      "Now checking substring ATGCC\n",
      "Substring length: 5\n",
      "Match found.\n"
     ]
    },
    {
     "data": {
      "text/plain": [
       "'ATGCC'"
      ]
     },
     "execution_count": 35,
     "metadata": {},
     "output_type": "execute_result"
    }
   ],
   "source": [
    "longest_common_substring('GATGCCATGCA', 'ATGCC')"
   ]
  },
  {
   "cell_type": "code",
   "execution_count": 36,
   "metadata": {},
   "outputs": [
    {
     "name": "stdout",
     "output_type": "stream",
     "text": [
      "Initialized n = 13\n",
      "n = 13\n",
      "i = 0\n",
      "Now checking substring ACGTGGAAAGCCA\n",
      "Substring length: 13\n",
      "No match found.\n",
      "i = 1\n",
      "Now checking substring CGTGGAAAGCCA\n",
      "Substring length: 12\n",
      "Substring is too short; breaking loop.\n",
      "n = 12\n",
      "i = 0\n",
      "Now checking substring ACGTGGAAAGCC\n",
      "Substring length: 12\n",
      "No match found.\n",
      "i = 1\n",
      "Now checking substring CGTGGAAAGCCA\n",
      "Substring length: 12\n",
      "No match found.\n",
      "i = 2\n",
      "Now checking substring GTGGAAAGCCA\n",
      "Substring length: 11\n",
      "Substring is too short; breaking loop.\n",
      "n = 11\n",
      "i = 0\n",
      "Now checking substring ACGTGGAAAGC\n",
      "Substring length: 11\n",
      "No match found.\n",
      "i = 1\n",
      "Now checking substring CGTGGAAAGCC\n",
      "Substring length: 11\n",
      "No match found.\n",
      "i = 2\n",
      "Now checking substring GTGGAAAGCCA\n",
      "Substring length: 11\n",
      "No match found.\n",
      "i = 3\n",
      "Now checking substring TGGAAAGCCA\n",
      "Substring length: 10\n",
      "Substring is too short; breaking loop.\n",
      "n = 10\n",
      "i = 0\n",
      "Now checking substring ACGTGGAAAG\n",
      "Substring length: 10\n",
      "No match found.\n",
      "i = 1\n",
      "Now checking substring CGTGGAAAGC\n",
      "Substring length: 10\n",
      "No match found.\n",
      "i = 2\n",
      "Now checking substring GTGGAAAGCC\n",
      "Substring length: 10\n",
      "No match found.\n",
      "i = 3\n",
      "Now checking substring TGGAAAGCCA\n",
      "Substring length: 10\n",
      "No match found.\n",
      "i = 4\n",
      "Now checking substring GGAAAGCCA\n",
      "Substring length: 9\n",
      "Substring is too short; breaking loop.\n",
      "n = 9\n",
      "i = 0\n",
      "Now checking substring ACGTGGAAA\n",
      "Substring length: 9\n",
      "No match found.\n",
      "i = 1\n",
      "Now checking substring CGTGGAAAG\n",
      "Substring length: 9\n",
      "No match found.\n",
      "i = 2\n",
      "Now checking substring GTGGAAAGC\n",
      "Substring length: 9\n",
      "No match found.\n",
      "i = 3\n",
      "Now checking substring TGGAAAGCC\n",
      "Substring length: 9\n",
      "No match found.\n",
      "i = 4\n",
      "Now checking substring GGAAAGCCA\n",
      "Substring length: 9\n",
      "No match found.\n",
      "i = 5\n",
      "Now checking substring GAAAGCCA\n",
      "Substring length: 8\n",
      "Substring is too short; breaking loop.\n",
      "n = 8\n",
      "i = 0\n",
      "Now checking substring ACGTGGAA\n",
      "Substring length: 8\n",
      "No match found.\n",
      "i = 1\n",
      "Now checking substring CGTGGAAA\n",
      "Substring length: 8\n",
      "No match found.\n",
      "i = 2\n",
      "Now checking substring GTGGAAAG\n",
      "Substring length: 8\n",
      "No match found.\n",
      "i = 3\n",
      "Now checking substring TGGAAAGC\n",
      "Substring length: 8\n",
      "No match found.\n",
      "i = 4\n",
      "Now checking substring GGAAAGCC\n",
      "Substring length: 8\n",
      "No match found.\n",
      "i = 5\n",
      "Now checking substring GAAAGCCA\n",
      "Substring length: 8\n",
      "No match found.\n",
      "i = 6\n",
      "Now checking substring AAAGCCA\n",
      "Substring length: 7\n",
      "Substring is too short; breaking loop.\n",
      "n = 7\n",
      "i = 0\n",
      "Now checking substring ACGTGGA\n",
      "Substring length: 7\n",
      "No match found.\n",
      "i = 1\n",
      "Now checking substring CGTGGAA\n",
      "Substring length: 7\n",
      "No match found.\n",
      "i = 2\n",
      "Now checking substring GTGGAAA\n",
      "Substring length: 7\n",
      "No match found.\n",
      "i = 3\n",
      "Now checking substring TGGAAAG\n",
      "Substring length: 7\n",
      "No match found.\n",
      "i = 4\n",
      "Now checking substring GGAAAGC\n",
      "Substring length: 7\n",
      "No match found.\n",
      "i = 5\n",
      "Now checking substring GAAAGCC\n",
      "Substring length: 7\n",
      "No match found.\n",
      "i = 6\n",
      "Now checking substring AAAGCCA\n",
      "Substring length: 7\n",
      "No match found.\n",
      "i = 7\n",
      "Now checking substring AAGCCA\n",
      "Substring length: 6\n",
      "Substring is too short; breaking loop.\n",
      "n = 6\n",
      "i = 0\n",
      "Now checking substring ACGTGG\n",
      "Substring length: 6\n",
      "No match found.\n",
      "i = 1\n",
      "Now checking substring CGTGGA\n",
      "Substring length: 6\n",
      "No match found.\n",
      "i = 2\n",
      "Now checking substring GTGGAA\n",
      "Substring length: 6\n",
      "No match found.\n",
      "i = 3\n",
      "Now checking substring TGGAAA\n",
      "Substring length: 6\n",
      "No match found.\n",
      "i = 4\n",
      "Now checking substring GGAAAG\n",
      "Substring length: 6\n",
      "No match found.\n",
      "i = 5\n",
      "Now checking substring GAAAGC\n",
      "Substring length: 6\n",
      "No match found.\n",
      "i = 6\n",
      "Now checking substring AAAGCC\n",
      "Substring length: 6\n",
      "No match found.\n",
      "i = 7\n",
      "Now checking substring AAGCCA\n",
      "Substring length: 6\n",
      "No match found.\n",
      "i = 8\n",
      "Now checking substring AGCCA\n",
      "Substring length: 5\n",
      "Substring is too short; breaking loop.\n",
      "n = 5\n",
      "i = 0\n",
      "Now checking substring ACGTG\n",
      "Substring length: 5\n",
      "No match found.\n",
      "i = 1\n",
      "Now checking substring CGTGG\n",
      "Substring length: 5\n",
      "No match found.\n",
      "i = 2\n",
      "Now checking substring GTGGA\n",
      "Substring length: 5\n",
      "No match found.\n",
      "i = 3\n",
      "Now checking substring TGGAA\n",
      "Substring length: 5\n",
      "No match found.\n",
      "i = 4\n",
      "Now checking substring GGAAA\n",
      "Substring length: 5\n",
      "No match found.\n",
      "i = 5\n",
      "Now checking substring GAAAG\n",
      "Substring length: 5\n",
      "No match found.\n",
      "i = 6\n",
      "Now checking substring AAAGC\n",
      "Substring length: 5\n",
      "No match found.\n",
      "i = 7\n",
      "Now checking substring AAGCC\n",
      "Substring length: 5\n",
      "No match found.\n",
      "i = 8\n",
      "Now checking substring AGCCA\n",
      "Substring length: 5\n",
      "No match found.\n",
      "i = 9\n",
      "Now checking substring GCCA\n",
      "Substring length: 4\n",
      "Substring is too short; breaking loop.\n",
      "n = 4\n",
      "i = 0\n",
      "Now checking substring ACGT\n",
      "Substring length: 4\n",
      "Match found.\n"
     ]
    },
    {
     "data": {
      "text/plain": [
       "'ACGT'"
      ]
     },
     "execution_count": 36,
     "metadata": {},
     "output_type": "execute_result"
    }
   ],
   "source": [
    "longest_common_substring('ACGTGGAAAGCCA', 'GTACACACGTTTTGAGAGACAC')"
   ]
  },
  {
   "cell_type": "code",
   "execution_count": 37,
   "metadata": {},
   "outputs": [
    {
     "name": "stdout",
     "output_type": "stream",
     "text": [
      "Initialized n = 4\n",
      "n = 4\n",
      "i = 0\n",
      "Now checking substring 0123\n",
      "Substring length: 4\n",
      "No match found.\n",
      "i = 1\n",
      "Now checking substring 123\n",
      "Substring length: 3\n",
      "Substring is too short; breaking loop.\n",
      "n = 3\n",
      "i = 0\n",
      "Now checking substring 012\n",
      "Substring length: 3\n",
      "No match found.\n",
      "i = 1\n",
      "Now checking substring 123\n",
      "Substring length: 3\n",
      "No match found.\n",
      "i = 2\n",
      "Now checking substring 23\n",
      "Substring length: 2\n",
      "Substring is too short; breaking loop.\n",
      "n = 2\n",
      "i = 0\n",
      "Now checking substring 01\n",
      "Substring length: 2\n",
      "No match found.\n",
      "i = 1\n",
      "Now checking substring 12\n",
      "Substring length: 2\n",
      "No match found.\n",
      "i = 2\n",
      "Now checking substring 23\n",
      "Substring length: 2\n",
      "No match found.\n",
      "i = 3\n",
      "Now checking substring 3\n",
      "Substring length: 1\n",
      "Substring is too short; breaking loop.\n",
      "n = 1\n",
      "i = 0\n",
      "Now checking substring 0\n",
      "Substring length: 1\n",
      "No match found.\n",
      "i = 1\n",
      "Now checking substring 1\n",
      "Substring length: 1\n",
      "No match found.\n",
      "i = 2\n",
      "Now checking substring 2\n",
      "Substring length: 1\n",
      "No match found.\n",
      "i = 3\n",
      "Now checking substring 3\n",
      "Substring length: 1\n",
      "No match found.\n",
      "There are no common substrings.\n"
     ]
    }
   ],
   "source": [
    "longest_common_substring('0123', 'ATGCC')"
   ]
  },
  {
   "cell_type": "code",
   "execution_count": 38,
   "metadata": {},
   "outputs": [],
   "source": [
    "#cleaning it up gives us this:\n",
    "\n",
    "def longest_common_substring(s1, s2):\n",
    "    '''Given two strings, returns one longest common substring.'''\n",
    "    \n",
    "    #first, organize str1 to always be the shorter\n",
    "    if len(s1) <= len(s2):\n",
    "        str1 = s1\n",
    "        str2 = s2\n",
    "    else:\n",
    "        str1 = s2\n",
    "        str2 = s1\n",
    "    \n",
    "    #our biggest chunk is the length of the smaller string\n",
    "    n = len(str1)\n",
    "    \n",
    "    #do countdown of n to define length of chunks\n",
    "    for n in reversed(range(1, n+1)):\n",
    "        \n",
    "        #scan through sequences\n",
    "        for i,_ in enumerate(str1):\n",
    "            substr = str1[i:i+n]\n",
    "            \n",
    "            #check whether we've run off the end of the sequence:\n",
    "            if len(substr) < n:\n",
    "                #break the second loop iterating i; continue iterating n downward\n",
    "                break\n",
    "                \n",
    "            if substr in str2:\n",
    "                return substr\n",
    "            else:\n",
    "                #iterate up i\n",
    "                pass\n",
    "            \n",
    "    #consider what happens if no common substring\n",
    "    #we should only reach this code if we've counted all the way down to n = 0 and not found any substrings\n",
    "    print('There are no common substrings.')"
   ]
  },
  {
   "cell_type": "code",
   "execution_count": 39,
   "metadata": {},
   "outputs": [
    {
     "data": {
      "text/plain": [
       "'ACGT'"
      ]
     },
     "execution_count": 39,
     "metadata": {},
     "output_type": "execute_result"
    }
   ],
   "source": [
    "longest_common_substring('ACGTGGAAAGCCA', 'GTACACACGTTTTGAGAGACAC')\t"
   ]
  },
  {
   "cell_type": "code",
   "execution_count": 40,
   "metadata": {},
   "outputs": [
    {
     "name": "stdout",
     "output_type": "stream",
     "text": [
      "There are no common substrings.\n"
     ]
    }
   ],
   "source": [
    "longest_common_substring('ACGTGGAAAGCCA', '01234')"
   ]
  },
  {
   "cell_type": "markdown",
   "metadata": {},
   "source": [
    "Exercise 1.3\n",
    "\n",
    "a) Write a function to make sure that the number of closed parentheses is equal to the number of open parentheses, a requirement for a valid secondary structure. It should return True if the parentheses are valid and False otherwise."
   ]
  },
  {
   "cell_type": "code",
   "execution_count": 41,
   "metadata": {},
   "outputs": [],
   "source": [
    "#As before, this is the same idea as Justin's code, but his is cleaner.\n",
    "\n",
    "def check_paren_number(seq):\n",
    "    '''Checks whether an input string has the same number of open and closed parentheses.\n",
    "    Does not check for the presence of parentheses (zero is valid).\n",
    "    Does not check if the parentheses are in a sensible order.'''\n",
    "    if seq.count('(') == seq.count(')'):\n",
    "        return True\n",
    "    else:\n",
    "        return False"
   ]
  },
  {
   "cell_type": "code",
   "execution_count": 42,
   "metadata": {},
   "outputs": [
    {
     "data": {
      "text/plain": [
       "True"
      ]
     },
     "execution_count": 42,
     "metadata": {},
     "output_type": "execute_result"
    }
   ],
   "source": [
    "#test it\n",
    "\n",
    "check_paren_number('(())')"
   ]
  },
  {
   "cell_type": "code",
   "execution_count": 43,
   "metadata": {},
   "outputs": [
    {
     "data": {
      "text/plain": [
       "False"
      ]
     },
     "execution_count": 43,
     "metadata": {},
     "output_type": "execute_result"
    }
   ],
   "source": [
    "check_paren_number('(()')"
   ]
  },
  {
   "cell_type": "code",
   "execution_count": 44,
   "metadata": {},
   "outputs": [
    {
     "data": {
      "text/plain": [
       "True"
      ]
     },
     "execution_count": 44,
     "metadata": {},
     "output_type": "execute_result"
    }
   ],
   "source": [
    "#it still counts as true if there are no parentheses!\n",
    "check_paren_number('abc')"
   ]
  },
  {
   "cell_type": "markdown",
   "metadata": {},
   "source": [
    "b) Write a function that converts the dot-parens notation to a tuple of 2-tuples representing the base pairs. We'll call this function dotparen_to_bp(). An example input/output of this function would be:\n",
    "\n",
    "dotparen_to_bp('(((....)))')\n",
    "\n",
    "((0, 9), (1, 8), (2, 7))"
   ]
  },
  {
   "cell_type": "code",
   "execution_count": 45,
   "metadata": {},
   "outputs": [],
   "source": [
    "def dotparen_to_bp(seq):\n",
    "    '''Accepts string or list input.\n",
    "    \n",
    "    Converts dot-parentheses notation for hairpins into a tuple containing two-tuples,\n",
    "    which define the indices of the original notation that base pair with each other.\n",
    "    \n",
    "    Cannot distinguish between valid and invalid sequences, and may produce erronous results with invalid input.'''\n",
    "    \n",
    "    #I want to use list methods on this. I think it's possible while treating it as a string also, though!\n",
    "    seq = list(seq)\n",
    "    \n",
    "    #we need to pair up first and last parentheses\n",
    "    \n",
    "    #initialize output\n",
    "    all_bp = []\n",
    "    \n",
    "    loop_counter = 0\n",
    "    seq_len = len(seq)   #record this before messing with it\n",
    "    \n",
    "    while seq.count('(') > 0:\n",
    "    #this is a risky loop! If I make a mistake that causes this never to remove all the (s, it will run forever. \n",
    "    \n",
    "        #initialize the two-tuple\n",
    "        #but start it as a list, so we can add things to it!\n",
    "        bp = []\n",
    "        \n",
    "        #first, find first open parenthesis\n",
    "        #record position - I found the .index method in the documentation Justin linked\n",
    "        open_index = seq.index('(')\n",
    "        \n",
    "        #find last closed parenthesis, record position\n",
    "        '''note that .index finds the first occurrence of a thing!\n",
    "        list[::-1] will give us the reversed list, allowing us to find the last occurrence, but...\n",
    "        the index will be from the reversed list\n",
    "        so here's what I wrote to give the index of the last occurrence'''\n",
    "        close_index = len(seq) - seq[::-1].index(')') - 1    #watch out for off-by-one errors! I tested this to be sure\n",
    "        \n",
    "        #note I don't remove items until after I've identified everything\n",
    "        seq.pop(open_index) \n",
    "\n",
    "        #if I've already removed items from the beginning, I have to add those back into the index\n",
    "        #but I don't make that adjustment until I've already used the original value to .pop\n",
    "        open_index += loop_counter\n",
    "        bp.append(open_index)\n",
    "    \n",
    "        seq.pop(close_index)\n",
    "        close_index += loop_counter\n",
    "        bp.append(close_index)\n",
    "    \n",
    "        #lock in bp by converting it to tuple, append to total\n",
    "        all_bp.append(tuple(bp))\n",
    "        loop_counter += 1\n",
    "        \n",
    "        #failsafe!\n",
    "        if loop_counter > seq_len:\n",
    "            Print('An error has occured.')\n",
    "            break\n",
    "            \n",
    "    return tuple(all_bp)"
   ]
  },
  {
   "cell_type": "code",
   "execution_count": 46,
   "metadata": {},
   "outputs": [
    {
     "ename": "IndexError",
     "evalue": "pop index out of range",
     "output_type": "error",
     "traceback": [
      "\u001b[1;31m---------------------------------------------------------------------------\u001b[0m",
      "\u001b[1;31mIndexError\u001b[0m                                Traceback (most recent call last)",
      "\u001b[1;32m<ipython-input-46-c03dbee96227>\u001b[0m in \u001b[0;36m<module>\u001b[1;34m\u001b[0m\n\u001b[1;32m----> 1\u001b[1;33m \u001b[0mdotparen_to_bp\u001b[0m\u001b[1;33m(\u001b[0m\u001b[1;34m'(((....)))'\u001b[0m\u001b[1;33m)\u001b[0m\u001b[1;33m\u001b[0m\u001b[1;33m\u001b[0m\u001b[0m\n\u001b[0m",
      "\u001b[1;32m<ipython-input-45-83c99ddfe025>\u001b[0m in \u001b[0;36mdotparen_to_bp\u001b[1;34m(seq)\u001b[0m\n\u001b[0;32m     44\u001b[0m         \u001b[0mbp\u001b[0m\u001b[1;33m.\u001b[0m\u001b[0mappend\u001b[0m\u001b[1;33m(\u001b[0m\u001b[0mopen_index\u001b[0m\u001b[1;33m)\u001b[0m\u001b[1;33m\u001b[0m\u001b[1;33m\u001b[0m\u001b[0m\n\u001b[0;32m     45\u001b[0m \u001b[1;33m\u001b[0m\u001b[0m\n\u001b[1;32m---> 46\u001b[1;33m         \u001b[0mseq\u001b[0m\u001b[1;33m.\u001b[0m\u001b[0mpop\u001b[0m\u001b[1;33m(\u001b[0m\u001b[0mclose_index\u001b[0m\u001b[1;33m)\u001b[0m\u001b[1;33m\u001b[0m\u001b[1;33m\u001b[0m\u001b[0m\n\u001b[0m\u001b[0;32m     47\u001b[0m         \u001b[0mclose_index\u001b[0m \u001b[1;33m+=\u001b[0m \u001b[0mloop_counter\u001b[0m\u001b[1;33m\u001b[0m\u001b[1;33m\u001b[0m\u001b[0m\n\u001b[0;32m     48\u001b[0m         \u001b[0mbp\u001b[0m\u001b[1;33m.\u001b[0m\u001b[0mappend\u001b[0m\u001b[1;33m(\u001b[0m\u001b[0mclose_index\u001b[0m\u001b[1;33m)\u001b[0m\u001b[1;33m\u001b[0m\u001b[1;33m\u001b[0m\u001b[0m\n",
      "\u001b[1;31mIndexError\u001b[0m: pop index out of range"
     ]
    }
   ],
   "source": [
    "dotparen_to_bp('(((....)))')"
   ]
  },
  {
   "cell_type": "markdown",
   "metadata": {},
   "source": [
    "Hmm. Let's try printing checkpoints again."
   ]
  },
  {
   "cell_type": "code",
   "execution_count": 47,
   "metadata": {},
   "outputs": [],
   "source": [
    "def dotparen_to_bp(seq):\n",
    "    '''Accepts string or list input.\n",
    "    \n",
    "    Converts dot-parentheses notation for hairpins into a tuple containing two-tuples,\n",
    "    which define the indices of the original notation that base pair with each other.\n",
    "    \n",
    "    Cannot distinguish between valid and invalid sequences, and may produce erronous results with invalid input.'''\n",
    "    \n",
    "    #I want to use list methods on this. I think it's possible while treating it as a string also, though!\n",
    "    seq = list(seq)\n",
    "    \n",
    "    #we need to pair up first and last parentheses\n",
    "    \n",
    "    #initialize output\n",
    "    all_bp = []\n",
    "    \n",
    "    loop_counter = 0\n",
    "    seq_len = len(seq)   #record this before messing with it\n",
    "    print('Sequence length: ' + str(seq_len))\n",
    "    \n",
    "    while seq.count('(') > 0:\n",
    "    #this is a risky loop! If I make a mistake that causes this never to remove all the (s, it will run forever. \n",
    "        print('Current loop: ' + str(loop_counter))   #this starts from 0!\n",
    "        print('Currently working with seq: ' + str(seq))\n",
    "                \n",
    "        #initialize the two-tuple\n",
    "        #but start it as a list, so we can add things to it!\n",
    "        bp = []\n",
    "        \n",
    "        #first, find first open parenthesis\n",
    "        #record position - I found the .index method in the documentation Justin linked\n",
    "        open_index = seq.index('(')\n",
    "        print('open_index = ' + str(open_index))\n",
    "        \n",
    "        #find last closed parenthesis, record position\n",
    "        '''note that .index finds the first occurrence of a thing!\n",
    "        list[::-1] will give us the reversed list, allowing us to find the last occurrence, but...\n",
    "        the index will be from the reversed list\n",
    "        so here's what I wrote to give the index of the last occurrence'''\n",
    "        close_index = len(seq) - seq[::-1].index(')') - 1    #watch out for off-by-one errors! I tested this to be sure\n",
    "        print('close_index = ' + str(close_index))\n",
    "        \n",
    "        #note I don't remove items until after I've identified everything\n",
    "        seq.pop(open_index)\n",
    "        print('seq after first pop: ' + str(seq))\n",
    "\n",
    "        #if I've already removed items from the beginning, I have to add those back into the index\n",
    "        #but I don't make that adjustment until I've already used the original value to .pop\n",
    "        open_index += loop_counter\n",
    "        print('Adjusted open_index = ' + str(open_index))\n",
    "        bp.append(open_index)\n",
    "    \n",
    "        seq.pop(close_index)\n",
    "        print('seq after second pop: ' + str(seq))\n",
    "        close_index += loop_counter\n",
    "        print('Adjusted close_index = ' + str(close_index))\n",
    "        bp.append(close_index)\n",
    "    \n",
    "        #lock in bp by converting it to tuple, append to total\n",
    "        all_bp.append(tuple(bp))\n",
    "        print('Current output: ' + str(all_bp))\n",
    "        loop_counter += 1\n",
    "        \n",
    "        #failsafe!\n",
    "        if loop_counter > seq_len:\n",
    "            Print('An error has occured.')\n",
    "            break\n",
    "            \n",
    "    return tuple(all_bp)"
   ]
  },
  {
   "cell_type": "code",
   "execution_count": 48,
   "metadata": {},
   "outputs": [
    {
     "name": "stdout",
     "output_type": "stream",
     "text": [
      "Sequence length: 10\n",
      "Current loop: 0\n",
      "Currently working with seq: ['(', '(', '(', '.', '.', '.', '.', ')', ')', ')']\n",
      "open_index = 0\n",
      "close_index = 9\n",
      "seq after first pop: ['(', '(', '.', '.', '.', '.', ')', ')', ')']\n",
      "Adjusted open_index = 0\n"
     ]
    },
    {
     "ename": "IndexError",
     "evalue": "pop index out of range",
     "output_type": "error",
     "traceback": [
      "\u001b[1;31m---------------------------------------------------------------------------\u001b[0m",
      "\u001b[1;31mIndexError\u001b[0m                                Traceback (most recent call last)",
      "\u001b[1;32m<ipython-input-48-c03dbee96227>\u001b[0m in \u001b[0;36m<module>\u001b[1;34m\u001b[0m\n\u001b[1;32m----> 1\u001b[1;33m \u001b[0mdotparen_to_bp\u001b[0m\u001b[1;33m(\u001b[0m\u001b[1;34m'(((....)))'\u001b[0m\u001b[1;33m)\u001b[0m\u001b[1;33m\u001b[0m\u001b[1;33m\u001b[0m\u001b[0m\n\u001b[0m",
      "\u001b[1;32m<ipython-input-47-bad6e0a0ffec>\u001b[0m in \u001b[0;36mdotparen_to_bp\u001b[1;34m(seq)\u001b[0m\n\u001b[0;32m     51\u001b[0m         \u001b[0mbp\u001b[0m\u001b[1;33m.\u001b[0m\u001b[0mappend\u001b[0m\u001b[1;33m(\u001b[0m\u001b[0mopen_index\u001b[0m\u001b[1;33m)\u001b[0m\u001b[1;33m\u001b[0m\u001b[1;33m\u001b[0m\u001b[0m\n\u001b[0;32m     52\u001b[0m \u001b[1;33m\u001b[0m\u001b[0m\n\u001b[1;32m---> 53\u001b[1;33m         \u001b[0mseq\u001b[0m\u001b[1;33m.\u001b[0m\u001b[0mpop\u001b[0m\u001b[1;33m(\u001b[0m\u001b[0mclose_index\u001b[0m\u001b[1;33m)\u001b[0m\u001b[1;33m\u001b[0m\u001b[1;33m\u001b[0m\u001b[0m\n\u001b[0m\u001b[0;32m     54\u001b[0m         \u001b[0mprint\u001b[0m\u001b[1;33m(\u001b[0m\u001b[1;34m'seq after second pop: '\u001b[0m \u001b[1;33m+\u001b[0m \u001b[0mstr\u001b[0m\u001b[1;33m(\u001b[0m\u001b[0mseq\u001b[0m\u001b[1;33m)\u001b[0m\u001b[1;33m)\u001b[0m\u001b[1;33m\u001b[0m\u001b[1;33m\u001b[0m\u001b[0m\n\u001b[0;32m     55\u001b[0m         \u001b[0mclose_index\u001b[0m \u001b[1;33m+=\u001b[0m \u001b[0mloop_counter\u001b[0m\u001b[1;33m\u001b[0m\u001b[1;33m\u001b[0m\u001b[0m\n",
      "\u001b[1;31mIndexError\u001b[0m: pop index out of range"
     ]
    }
   ],
   "source": [
    "dotparen_to_bp('(((....)))')"
   ]
  },
  {
   "cell_type": "markdown",
   "metadata": {},
   "source": [
    "The problem is that I removed the first index, then tried to remove the last even though the sequence is now shorter! It should work if I .pop the last item first."
   ]
  },
  {
   "cell_type": "code",
   "execution_count": 49,
   "metadata": {},
   "outputs": [],
   "source": [
    "def dotparen_to_bp(seq):\n",
    "    '''Accepts string or list input.\n",
    "    \n",
    "    Converts dot-parentheses notation for hairpins into a tuple containing two-tuples,\n",
    "    which define the indices of the original notation that base pair with each other.\n",
    "    \n",
    "    Cannot distinguish between valid and invalid sequences, and may produce erronous results with invalid input.'''\n",
    "    \n",
    "    #I want to use list methods on this. I think it's possible while treating it as a string also, though!\n",
    "    seq = list(seq)\n",
    "    \n",
    "    #we need to pair up first and last parentheses\n",
    "    \n",
    "    #initialize output\n",
    "    all_bp = []\n",
    "    \n",
    "    loop_counter = 0\n",
    "    seq_len = len(seq)   #record this before messing with it\n",
    "    print('Sequence length: ' + str(seq_len))\n",
    "    \n",
    "    while seq.count('(') > 0:\n",
    "    #this is a risky loop! If I make a mistake that causes this never to remove all the (s, it will run forever. \n",
    "        print('Current loop: ' + str(loop_counter))   #this starts from 0!\n",
    "        print('Currently working with seq: ' + str(seq))\n",
    "                \n",
    "        #initialize the two-tuple\n",
    "        #but start it as a list, so we can add things to it!\n",
    "        bp = []\n",
    "        \n",
    "        #first, find first open parenthesis\n",
    "        #record position - I found the .index method in the documentation Justin linked\n",
    "        open_index = seq.index('(')\n",
    "        print('open_index = ' + str(open_index))\n",
    "        \n",
    "        #find last closed parenthesis, record position\n",
    "        '''note that .index finds the first occurrence of a thing!\n",
    "        list[::-1] will give us the reversed list, allowing us to find the last occurrence, but...\n",
    "        the index will be from the reversed list\n",
    "        so here's what I wrote to give the index of the last occurrence'''\n",
    "        close_index = len(seq) - seq[::-1].index(')') - 1    #watch out for off-by-one errors! I tested this to be sure\n",
    "        print('close_index = ' + str(close_index))\n",
    "        \n",
    "        #pop the last index first!\n",
    "        seq.pop(close_index)\n",
    "        print('seq after close pop: ' + str(seq))\n",
    "        \n",
    "        #note I don't remove items until after I've identified everything\n",
    "        seq.pop(open_index)\n",
    "        print('seq after open pop: ' + str(seq))\n",
    "\n",
    "        #if I've already removed items from the beginning, I have to add those back into the index\n",
    "        #but I don't make that adjustment until I've already used the original value to .pop\n",
    "        open_index += loop_counter\n",
    "        print('Adjusted open_index = ' + str(open_index))\n",
    "        bp.append(open_index)\n",
    "    \n",
    "        close_index += loop_counter\n",
    "        print('Adjusted close_index = ' + str(close_index))\n",
    "        bp.append(close_index)\n",
    "    \n",
    "        #lock in bp by converting it to tuple, append to total\n",
    "        all_bp.append(tuple(bp))\n",
    "        print('Current output: ' + str(all_bp))\n",
    "        loop_counter += 1\n",
    "        \n",
    "        #failsafe!\n",
    "        if loop_counter > seq_len:\n",
    "            Print('An error has occured.')\n",
    "            break\n",
    "            \n",
    "    return tuple(all_bp)"
   ]
  },
  {
   "cell_type": "code",
   "execution_count": 50,
   "metadata": {},
   "outputs": [
    {
     "name": "stdout",
     "output_type": "stream",
     "text": [
      "Sequence length: 10\n",
      "Current loop: 0\n",
      "Currently working with seq: ['(', '(', '(', '.', '.', '.', '.', ')', ')', ')']\n",
      "open_index = 0\n",
      "close_index = 9\n",
      "seq after close pop: ['(', '(', '(', '.', '.', '.', '.', ')', ')']\n",
      "seq after open pop: ['(', '(', '.', '.', '.', '.', ')', ')']\n",
      "Adjusted open_index = 0\n",
      "Adjusted close_index = 9\n",
      "Current output: [(0, 9)]\n",
      "Current loop: 1\n",
      "Currently working with seq: ['(', '(', '.', '.', '.', '.', ')', ')']\n",
      "open_index = 0\n",
      "close_index = 7\n",
      "seq after close pop: ['(', '(', '.', '.', '.', '.', ')']\n",
      "seq after open pop: ['(', '.', '.', '.', '.', ')']\n",
      "Adjusted open_index = 1\n",
      "Adjusted close_index = 8\n",
      "Current output: [(0, 9), (1, 8)]\n",
      "Current loop: 2\n",
      "Currently working with seq: ['(', '.', '.', '.', '.', ')']\n",
      "open_index = 0\n",
      "close_index = 5\n",
      "seq after close pop: ['(', '.', '.', '.', '.']\n",
      "seq after open pop: ['.', '.', '.', '.']\n",
      "Adjusted open_index = 2\n",
      "Adjusted close_index = 7\n",
      "Current output: [(0, 9), (1, 8), (2, 7)]\n"
     ]
    },
    {
     "data": {
      "text/plain": [
       "((0, 9), (1, 8), (2, 7))"
      ]
     },
     "execution_count": 50,
     "metadata": {},
     "output_type": "execute_result"
    }
   ],
   "source": [
    "dotparen_to_bp('(((....)))')"
   ]
  },
  {
   "cell_type": "code",
   "execution_count": 51,
   "metadata": {},
   "outputs": [],
   "source": [
    "#looks good! cleaning it up\n",
    "\n",
    "def dotparen_to_bp(seq):\n",
    "    '''Accepts string or list input.\n",
    "    \n",
    "    Converts dot-parentheses notation for hairpins into a tuple containing two-tuples,\n",
    "    which define the indices of the original notation that base pair with each other.\n",
    "    \n",
    "    Cannot distinguish between valid and invalid sequences, and may produce erronous results with invalid input.'''\n",
    "    \n",
    "    #I want to use list methods on this. I think it's possible while treating it as a string also, though!\n",
    "    seq = list(seq)\n",
    "    \n",
    "    #we need to pair up first and last parentheses\n",
    "    \n",
    "    #initialize output\n",
    "    all_bp = []\n",
    "    \n",
    "    loop_counter = 0\n",
    "    seq_len = len(seq)   #record this before messing with it\n",
    "    \n",
    "    while seq.count('(') > 0:\n",
    "    #this is a risky loop! If I make a mistake that causes this never to remove all the (s, it will run forever. \n",
    "                \n",
    "        #initialize the two-tuple\n",
    "        #but start it as a list, so we can add things to it!\n",
    "        bp = []\n",
    "        \n",
    "        #first, find first open parenthesis\n",
    "        #record position - I found the .index method in the documentation Justin linked\n",
    "        open_index = seq.index('(')\n",
    "        \n",
    "        #find last closed parenthesis, record position\n",
    "        '''note that .index finds the first occurrence of a thing!\n",
    "        list[::-1] will give us the reversed list, allowing us to find the last occurrence, but...\n",
    "        the index will be from the reversed list\n",
    "        so here's what I wrote to give the index of the last occurrence'''\n",
    "        close_index = len(seq) - seq[::-1].index(')') - 1    #watch out for off-by-one errors! I tested this to be sure\n",
    "        \n",
    "        #note I don't remove items until after I've identified everything\n",
    "        #pop the last index first!\n",
    "        seq.pop(close_index)\n",
    "        seq.pop(open_index)\n",
    "\n",
    "        #if I've already removed items from the beginning, I have to add those back into the index\n",
    "        #but I don't make that adjustment until I've already used the original value to .pop\n",
    "        open_index += loop_counter\n",
    "        close_index += loop_counter\n",
    "        bp.append(open_index)\n",
    "        bp.append(close_index)\n",
    "    \n",
    "        #lock in bp by converting it to tuple, append to total\n",
    "        all_bp.append(tuple(bp))\n",
    "        loop_counter += 1\n",
    "        \n",
    "        #failsafe!\n",
    "        if loop_counter > seq_len:\n",
    "            Print('An error has occured.')\n",
    "            break\n",
    "            \n",
    "    return tuple(all_bp)"
   ]
  },
  {
   "cell_type": "code",
   "execution_count": 52,
   "metadata": {},
   "outputs": [
    {
     "data": {
      "text/plain": [
       "((0, 9), (1, 8), (2, 7))"
      ]
     },
     "execution_count": 52,
     "metadata": {},
     "output_type": "execute_result"
    }
   ],
   "source": [
    "dotparen_to_bp('(((....)))')"
   ]
  },
  {
   "cell_type": "markdown",
   "metadata": {},
   "source": [
    "c) Write a function that verifies that a list of base pairs (as outputted by dotparen_to_bp()) satisfies the minimal hairpin length requirement."
   ]
  },
  {
   "cell_type": "code",
   "execution_count": 53,
   "metadata": {},
   "outputs": [],
   "source": [
    "def hairpin_checker(pairs):\n",
    "    '''Given a tuple of two-tuples representing base pairs, \n",
    "    checks that the hairpin-loop is at least 3 bases long.\n",
    "    Returns True or False.'''\n",
    "    \n",
    "    #The hairpin loop should always be enclosed by the last item outputted by dotparen_to_bp, accessed as pairs[-1]\n",
    "    if pairs[-1][1] - pairs[-1][0] <= 3:\n",
    "        return False\n",
    "    else:\n",
    "        return True"
   ]
  },
  {
   "cell_type": "code",
   "execution_count": 54,
   "metadata": {},
   "outputs": [
    {
     "data": {
      "text/plain": [
       "True"
      ]
     },
     "execution_count": 54,
     "metadata": {},
     "output_type": "execute_result"
    }
   ],
   "source": [
    "#check results!\n",
    "hairpin_checker(dotparen_to_bp('(((....)))'))"
   ]
  },
  {
   "cell_type": "code",
   "execution_count": 55,
   "metadata": {},
   "outputs": [
    {
     "data": {
      "text/plain": [
       "False"
      ]
     },
     "execution_count": 55,
     "metadata": {},
     "output_type": "execute_result"
    }
   ],
   "source": [
    "hairpin_checker(((2, 3),))"
   ]
  },
  {
   "cell_type": "code",
   "execution_count": 56,
   "metadata": {},
   "outputs": [
    {
     "data": {
      "text/plain": [
       "((0, 5),)"
      ]
     },
     "execution_count": 56,
     "metadata": {},
     "output_type": "execute_result"
    }
   ],
   "source": [
    "#note that the extra set of parentheses is needed to define a tuple inside a tuple\n",
    "dotparen_to_bp('(....)')"
   ]
  },
  {
   "cell_type": "code",
   "execution_count": 57,
   "metadata": {},
   "outputs": [
    {
     "ename": "TypeError",
     "evalue": "'int' object is not subscriptable",
     "output_type": "error",
     "traceback": [
      "\u001b[1;31m---------------------------------------------------------------------------\u001b[0m",
      "\u001b[1;31mTypeError\u001b[0m                                 Traceback (most recent call last)",
      "\u001b[1;32m<ipython-input-57-77d529a03ae8>\u001b[0m in \u001b[0;36m<module>\u001b[1;34m\u001b[0m\n\u001b[0;32m      1\u001b[0m \u001b[1;31m#otherwise it doesn't work\u001b[0m\u001b[1;33m\u001b[0m\u001b[1;33m\u001b[0m\u001b[1;33m\u001b[0m\u001b[0m\n\u001b[1;32m----> 2\u001b[1;33m \u001b[0mhairpin_checker\u001b[0m\u001b[1;33m(\u001b[0m\u001b[1;33m(\u001b[0m\u001b[1;33m(\u001b[0m\u001b[1;36m2\u001b[0m\u001b[1;33m,\u001b[0m\u001b[1;36m3\u001b[0m\u001b[1;33m)\u001b[0m\u001b[1;33m)\u001b[0m\u001b[1;33m)\u001b[0m\u001b[1;33m\u001b[0m\u001b[1;33m\u001b[0m\u001b[0m\n\u001b[0m",
      "\u001b[1;32m<ipython-input-53-e6154fb532c0>\u001b[0m in \u001b[0;36mhairpin_checker\u001b[1;34m(pairs)\u001b[0m\n\u001b[0;32m      5\u001b[0m \u001b[1;33m\u001b[0m\u001b[0m\n\u001b[0;32m      6\u001b[0m     \u001b[1;31m#The hairpin loop should always be enclosed by the last item outputted by dotparen_to_bp, accessed as pairs[-1]\u001b[0m\u001b[1;33m\u001b[0m\u001b[1;33m\u001b[0m\u001b[1;33m\u001b[0m\u001b[0m\n\u001b[1;32m----> 7\u001b[1;33m     \u001b[1;32mif\u001b[0m \u001b[0mpairs\u001b[0m\u001b[1;33m[\u001b[0m\u001b[1;33m-\u001b[0m\u001b[1;36m1\u001b[0m\u001b[1;33m]\u001b[0m\u001b[1;33m[\u001b[0m\u001b[1;36m1\u001b[0m\u001b[1;33m]\u001b[0m \u001b[1;33m-\u001b[0m \u001b[0mpairs\u001b[0m\u001b[1;33m[\u001b[0m\u001b[1;33m-\u001b[0m\u001b[1;36m1\u001b[0m\u001b[1;33m]\u001b[0m\u001b[1;33m[\u001b[0m\u001b[1;36m0\u001b[0m\u001b[1;33m]\u001b[0m \u001b[1;33m<=\u001b[0m \u001b[1;36m3\u001b[0m\u001b[1;33m:\u001b[0m\u001b[1;33m\u001b[0m\u001b[1;33m\u001b[0m\u001b[0m\n\u001b[0m\u001b[0;32m      8\u001b[0m         \u001b[1;32mreturn\u001b[0m \u001b[1;32mFalse\u001b[0m\u001b[1;33m\u001b[0m\u001b[1;33m\u001b[0m\u001b[0m\n\u001b[0;32m      9\u001b[0m     \u001b[1;32melse\u001b[0m\u001b[1;33m:\u001b[0m\u001b[1;33m\u001b[0m\u001b[1;33m\u001b[0m\u001b[0m\n",
      "\u001b[1;31mTypeError\u001b[0m: 'int' object is not subscriptable"
     ]
    }
   ],
   "source": [
    "#otherwise it doesn't work\n",
    "hairpin_checker(((2,3)))"
   ]
  },
  {
   "cell_type": "markdown",
   "metadata": {},
   "source": [
    "Now write your validator function. The function definition should look like this:\n",
    "\n",
    "def rna_ss_validator(seq, sec_struc, wobble=True):\n",
    "\n",
    "It should return True if the sequence is commensurate with a valid secondary structure and False otherwise. The wobble keyword argument is True if we allow wobble pairs (G paired with U)."
   ]
  },
  {
   "cell_type": "code",
   "execution_count": 58,
   "metadata": {},
   "outputs": [],
   "source": [
    "def rna_ss_validator(seq, sec_struc, wobble=True):\n",
    "    '''Checks whether a given sequence and secondary structure are valid, given the canonical RNA base pairs.\n",
    "    wobble=True allows G:U base pairs.'''\n",
    "    \n",
    "    seq = seq.upper()\n",
    "    \n",
    "    #return false if the sec_struc is totally invalid\n",
    "    if check_paren_number(sec_struc) == False:\n",
    "        return False\n",
    "    \n",
    "    #get the base pairs\n",
    "    base_pairs = dotparen_to_bp(sec_struc)\n",
    "    \n",
    "    #return false if the hairpin is invalid\n",
    "    if hairpin_checker(base_pairs) == False:\n",
    "        return False\n",
    "    \n",
    "    #define valid and invalid pairs\n",
    "    valid_pairs = (('G','C'), ('C','G'), ('A','U'), ('U','A'))\n",
    "    invalid_pairs = (('G','A'), ('C','A'), ('C','U'), ('A','G'), ('A','C'), ('U','C'))\n",
    "    wobble_pairs = (('G','U'), ('U','G'))\n",
    "    \n",
    "    #now, use base_pairs to construct sequence pairs and check each item in the sequence for valid pairings\n",
    "    for pair in base_pairs:\n",
    "        seq_pair = []\n",
    "        seq_pair.append(seq[pair[0]])\n",
    "        seq_pair.append(seq[pair[1]])\n",
    "        seq_pair = tuple(seq_pair)\n",
    "        \n",
    "        #each pair is represented as seq[pair[0]] and seq[pair[1]]\n",
    "        if seq_pair in invalid_pairs:\n",
    "            return False\n",
    "        elif wobble == False:\n",
    "            if seq_pair in wobble_pairs:\n",
    "                return False\n",
    "        #at this point, we have caught any incorrect pairs, but we haven't caught total nonsense\n",
    "        #for example, (X,X)\n",
    "        elif seq_pair not in valid_pairs or wobble_pairs:\n",
    "            #we could optionally print a specific error message here\n",
    "            return False"
   ]
  },
  {
   "cell_type": "code",
   "execution_count": 59,
   "metadata": {},
   "outputs": [
    {
     "data": {
      "text/plain": [
       "False"
      ]
     },
     "execution_count": 59,
     "metadata": {},
     "output_type": "execute_result"
    }
   ],
   "source": [
    "rna_ss_validator('GCAUCUAUGC', '(((....)))')"
   ]
  },
  {
   "cell_type": "code",
   "execution_count": 60,
   "metadata": {},
   "outputs": [
    {
     "data": {
      "text/plain": [
       "True"
      ]
     },
     "execution_count": 60,
     "metadata": {},
     "output_type": "execute_result"
    }
   ],
   "source": [
    "#well that's no good! Instead of the printing method, here I walked through my code one bit at a time.\n",
    "seq = 'GCAUCUAUGC'\n",
    "sec_struc = '(((....)))'\n",
    "seq = seq.upper()\n",
    "check_paren_number(sec_struc)"
   ]
  },
  {
   "cell_type": "code",
   "execution_count": 61,
   "metadata": {},
   "outputs": [
    {
     "data": {
      "text/plain": [
       "((0, 9), (1, 8), (2, 7))"
      ]
     },
     "execution_count": 61,
     "metadata": {},
     "output_type": "execute_result"
    }
   ],
   "source": [
    "base_pairs = dotparen_to_bp(sec_struc)\n",
    "base_pairs"
   ]
  },
  {
   "cell_type": "code",
   "execution_count": 62,
   "metadata": {},
   "outputs": [
    {
     "data": {
      "text/plain": [
       "True"
      ]
     },
     "execution_count": 62,
     "metadata": {},
     "output_type": "execute_result"
    }
   ],
   "source": [
    "hairpin_checker(base_pairs)"
   ]
  },
  {
   "cell_type": "code",
   "execution_count": 63,
   "metadata": {},
   "outputs": [],
   "source": [
    "valid_pairs = (('G','C'), ('C','G'), ('A','U'), ('U','A'))\n",
    "invalid_pairs = (('G','A'), ('C','A'), ('C','U'), ('A','G'), ('A','C'), ('U','C'))\n",
    "wobble_pairs = (('G','U'), ('U','G'))"
   ]
  },
  {
   "cell_type": "code",
   "execution_count": 64,
   "metadata": {},
   "outputs": [
    {
     "name": "stdout",
     "output_type": "stream",
     "text": [
      "(0, 9)\n",
      "(1, 8)\n",
      "(2, 7)\n"
     ]
    }
   ],
   "source": [
    "for pair in base_pairs:\n",
    "    print(pair)"
   ]
  },
  {
   "cell_type": "code",
   "execution_count": 65,
   "metadata": {},
   "outputs": [
    {
     "name": "stdout",
     "output_type": "stream",
     "text": [
      "('G', 'C')\n",
      "('C', 'G')\n",
      "('A', 'U')\n"
     ]
    }
   ],
   "source": [
    "for pair in base_pairs:\n",
    "    seq_pair = []\n",
    "    seq_pair.append(seq[pair[0]])\n",
    "    seq_pair.append(seq[pair[1]])\n",
    "    print(tuple(seq_pair)) "
   ]
  },
  {
   "cell_type": "code",
   "execution_count": 66,
   "metadata": {},
   "outputs": [
    {
     "name": "stdout",
     "output_type": "stream",
     "text": [
      "False\n",
      "False\n",
      "False\n"
     ]
    }
   ],
   "source": [
    "for pair in base_pairs:\n",
    "    seq_pair = []\n",
    "    seq_pair.append(seq[pair[0]])\n",
    "    seq_pair.append(seq[pair[1]])\n",
    "    seq_pair = tuple(seq_pair)\n",
    "    print(seq_pair in invalid_pairs)"
   ]
  },
  {
   "cell_type": "code",
   "execution_count": 67,
   "metadata": {},
   "outputs": [
    {
     "name": "stdout",
     "output_type": "stream",
     "text": [
      "(('G', 'U'), ('U', 'G'))\n",
      "(('G', 'U'), ('U', 'G'))\n",
      "(('G', 'U'), ('U', 'G'))\n"
     ]
    }
   ],
   "source": [
    "for pair in base_pairs:\n",
    "    seq_pair = []\n",
    "    seq_pair.append(seq[pair[0]])\n",
    "    seq_pair.append(seq[pair[1]])\n",
    "    seq_pair = tuple(seq_pair)\n",
    "    print(seq_pair not in valid_pairs or wobble_pairs)"
   ]
  },
  {
   "cell_type": "code",
   "execution_count": 68,
   "metadata": {},
   "outputs": [
    {
     "name": "stdout",
     "output_type": "stream",
     "text": [
      "True\n",
      "True\n",
      "True\n"
     ]
    }
   ],
   "source": [
    "#well that's not what I expected! \n",
    "#It's because the 'not in' command does not correctly interpret to check both places\n",
    "#I have to give the whole command on both sides of 'or'\n",
    "\n",
    "for pair in base_pairs:\n",
    "    seq_pair = []\n",
    "    seq_pair.append(seq[pair[0]])\n",
    "    seq_pair.append(seq[pair[1]])\n",
    "    seq_pair = tuple(seq_pair)\n",
    "    print(seq_pair not in valid_pairs or seq_pair not in wobble_pairs)"
   ]
  },
  {
   "cell_type": "code",
   "execution_count": 69,
   "metadata": {},
   "outputs": [
    {
     "name": "stdout",
     "output_type": "stream",
     "text": [
      "seq_pair = ('G', 'C')\n",
      "seq_pair not in valid_pairs or wobble_pairs\n",
      "seq_pair = ('C', 'G')\n",
      "seq_pair not in valid_pairs or wobble_pairs\n",
      "seq_pair = ('A', 'U')\n",
      "seq_pair not in valid_pairs or wobble_pairs\n"
     ]
    }
   ],
   "source": [
    "#okay, let's just check the for loop with the print method\n",
    "\n",
    "wobble=True\n",
    "\n",
    "for pair in base_pairs:\n",
    "    seq_pair = []\n",
    "    seq_pair.append(seq[pair[0]])\n",
    "    seq_pair.append(seq[pair[1]])\n",
    "    seq_pair = tuple(seq_pair)\n",
    "    print('seq_pair = ' + str(seq_pair))\n",
    "        \n",
    "    #each pair is represented as seq[pair[0]] and seq[pair[1]]\n",
    "    if seq_pair in invalid_pairs:\n",
    "        print('seq_pair in invalid_pairs')\n",
    "    elif wobble == False:\n",
    "        print('wobble==False')\n",
    "        if seq_pair in wobble_pairs:\n",
    "            print('seq_pair in wobble_pairs')\n",
    "    #at this point, we have caught any incorrect pairs, but we haven't caught total nonsense\n",
    "    #for example, (X,X)\n",
    "    elif seq_pair not in valid_pairs or seq_pair not in wobble_pairs:\n",
    "        #we could optionally print a specific error message here\n",
    "        print('seq_pair not in valid_pairs or wobble_pairs')"
   ]
  },
  {
   "cell_type": "code",
   "execution_count": 70,
   "metadata": {},
   "outputs": [
    {
     "data": {
      "text/plain": [
       "(('G', 'C'), ('C', 'G'), ('A', 'U'), ('U', 'A'))"
      ]
     },
     "execution_count": 70,
     "metadata": {},
     "output_type": "execute_result"
    }
   ],
   "source": [
    "#well that's not right!\n",
    "valid_pairs"
   ]
  },
  {
   "cell_type": "code",
   "execution_count": 71,
   "metadata": {},
   "outputs": [
    {
     "data": {
      "text/plain": [
       "True"
      ]
     },
     "execution_count": 71,
     "metadata": {},
     "output_type": "execute_result"
    }
   ],
   "source": [
    "('G', 'C') in valid_pairs or ('G', 'C') in wobble_pairs"
   ]
  },
  {
   "cell_type": "code",
   "execution_count": 72,
   "metadata": {},
   "outputs": [
    {
     "data": {
      "text/plain": [
       "True"
      ]
     },
     "execution_count": 72,
     "metadata": {},
     "output_type": "execute_result"
    }
   ],
   "source": [
    "#that's correct...\n",
    "('G', 'C') not in valid_pairs or ('G', 'C') not in wobble_pairs"
   ]
  },
  {
   "cell_type": "code",
   "execution_count": 73,
   "metadata": {},
   "outputs": [
    {
     "data": {
      "text/plain": [
       "False"
      ]
     },
     "execution_count": 73,
     "metadata": {},
     "output_type": "execute_result"
    }
   ],
   "source": [
    "#but that's not what I meant! Any given pair will ALWAYS not be in one of the two sets!\n",
    "#I should be using AND:\n",
    "('G', 'C') not in valid_pairs and ('G', 'C') not in wobble_pairs"
   ]
  },
  {
   "cell_type": "code",
   "execution_count": 74,
   "metadata": {},
   "outputs": [],
   "source": [
    "#fix it and try again!\n",
    "\n",
    "def rna_ss_validator(seq, sec_struc, wobble=True):\n",
    "    '''Checks whether a given sequence and secondary structure are valid, given the canonical RNA base pairs.\n",
    "    wobble=True allows G:U base pairs.'''\n",
    "    \n",
    "    seq = seq.upper()\n",
    "    \n",
    "    #return false if the sec_struc is totally invalid\n",
    "    if check_paren_number(sec_struc) == False:\n",
    "        return False\n",
    "    \n",
    "    #get the base pairs\n",
    "    base_pairs = dotparen_to_bp(sec_struc)\n",
    "    \n",
    "    #return false if the hairpin is invalid\n",
    "    if hairpin_checker(base_pairs) == False:\n",
    "        return False\n",
    "    \n",
    "    #define valid and invalid pairs\n",
    "    valid_pairs = (('G','C'), ('C','G'), ('A','U'), ('U','A'))\n",
    "    invalid_pairs = (('G','A'), ('C','A'), ('C','U'), ('A','G'), ('A','C'), ('U','C'))\n",
    "    wobble_pairs = (('G','U'), ('U','G'))\n",
    "    \n",
    "    #now, use base_pairs to construct sequence pairs and check each item in the sequence for valid pairings\n",
    "    for pair in base_pairs:\n",
    "        seq_pair = []\n",
    "        seq_pair.append(seq[pair[0]])\n",
    "        seq_pair.append(seq[pair[1]])\n",
    "        seq_pair = tuple(seq_pair)\n",
    "        \n",
    "        #each pair is represented as seq[pair[0]] and seq[pair[1]]\n",
    "        if seq_pair in invalid_pairs:\n",
    "            return False\n",
    "        elif wobble == False:\n",
    "            if seq_pair in wobble_pairs:\n",
    "                return False\n",
    "        #at this point, we have caught any incorrect pairs, but we haven't caught total nonsense\n",
    "        #for example, (X,X)\n",
    "        elif seq_pair not in valid_pairs and seq_pair not in wobble_pairs:\n",
    "            #we could optionally print a specific error message here\n",
    "            return False"
   ]
  },
  {
   "cell_type": "code",
   "execution_count": 75,
   "metadata": {},
   "outputs": [],
   "source": [
    "rna_ss_validator('GCAUCUAUGC', '(((....)))')"
   ]
  },
  {
   "cell_type": "code",
   "execution_count": 76,
   "metadata": {},
   "outputs": [],
   "source": [
    "#nothing happens! I forgot to tell the function to return True if nothing was wrong with it!\n",
    "\n",
    "def rna_ss_validator(seq, sec_struc, wobble=True):\n",
    "    '''Checks whether a given sequence and secondary structure are valid, given the canonical RNA base pairs.\n",
    "    wobble=True allows G:U base pairs.'''\n",
    "    \n",
    "    seq = seq.upper()\n",
    "    \n",
    "    #return false if the sec_struc is totally invalid\n",
    "    if check_paren_number(sec_struc) == False:\n",
    "        return False\n",
    "    \n",
    "    #get the base pairs\n",
    "    base_pairs = dotparen_to_bp(sec_struc)\n",
    "    \n",
    "    #return false if the hairpin is invalid\n",
    "    if hairpin_checker(base_pairs) == False:\n",
    "        return False\n",
    "    \n",
    "    #define valid and invalid pairs\n",
    "    valid_pairs = (('G','C'), ('C','G'), ('A','U'), ('U','A'))\n",
    "    invalid_pairs = (('G','A'), ('C','A'), ('C','U'), ('A','G'), ('A','C'), ('U','C'))\n",
    "    wobble_pairs = (('G','U'), ('U','G'))\n",
    "    \n",
    "    #now, use base_pairs to construct sequence pairs and check each item in the sequence for valid pairings\n",
    "    for pair in base_pairs:\n",
    "        seq_pair = []\n",
    "        seq_pair.append(seq[pair[0]])\n",
    "        seq_pair.append(seq[pair[1]])\n",
    "        seq_pair = tuple(seq_pair)\n",
    "        \n",
    "        #each pair is represented as seq[pair[0]] and seq[pair[1]]\n",
    "        if seq_pair in invalid_pairs:\n",
    "            return False\n",
    "        elif wobble == False:\n",
    "            if seq_pair in wobble_pairs:\n",
    "                return False\n",
    "        #at this point, we have caught any incorrect pairs, but we haven't caught total nonsense\n",
    "        #for example, (X,X)\n",
    "        elif seq_pair not in valid_pairs and seq_pair not in wobble_pairs:\n",
    "            #we could optionally print a specific error message here\n",
    "            return False\n",
    "        else:\n",
    "            pass\n",
    "    \n",
    "    return True"
   ]
  },
  {
   "cell_type": "code",
   "execution_count": 77,
   "metadata": {},
   "outputs": [
    {
     "data": {
      "text/plain": [
       "True"
      ]
     },
     "execution_count": 77,
     "metadata": {},
     "output_type": "execute_result"
    }
   ],
   "source": [
    "#ta daaa\n",
    "rna_ss_validator('GCAUCUAUGC', '(((....)))') and rna_ss_validator('GCAUCUAUGU', '(((....)))') and rna_ss_validator('GCAUCUAUGU', '(.(....).)') "
   ]
  },
  {
   "cell_type": "code",
   "execution_count": 78,
   "metadata": {},
   "outputs": [
    {
     "data": {
      "text/plain": [
       "False"
      ]
     },
     "execution_count": 78,
     "metadata": {},
     "output_type": "execute_result"
    }
   ],
   "source": [
    "#this should be false:\n",
    "rna_ss_validator('GCAUCUACGC', '(((....)))') or rna_ss_validator('GCAUCUAUGU', '(((....)))', wobble=False) or rna_ss_validator('GCAUCUAUGU', '(.(....)).') or rna_ss_validator('GCCCUUGGCA', '(.((..))).')"
   ]
  },
  {
   "cell_type": "markdown",
   "metadata": {},
   "source": [
    "Hooray!"
   ]
  },
  {
   "cell_type": "code",
   "execution_count": null,
   "metadata": {},
   "outputs": [],
   "source": []
  }
 ],
 "metadata": {
  "kernelspec": {
   "display_name": "Python 3",
   "language": "python",
   "name": "python3"
  },
  "language_info": {
   "codemirror_mode": {
    "name": "ipython",
    "version": 3
   },
   "file_extension": ".py",
   "mimetype": "text/x-python",
   "name": "python",
   "nbconvert_exporter": "python",
   "pygments_lexer": "ipython3",
   "version": "3.7.7"
  }
 },
 "nbformat": 4,
 "nbformat_minor": 4
}
